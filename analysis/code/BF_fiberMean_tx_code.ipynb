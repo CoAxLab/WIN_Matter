{
 "cells": [
  {
   "cell_type": "code",
   "execution_count": 6,
   "metadata": {},
   "outputs": [
    {
     "name": "stderr",
     "output_type": "stream",
     "text": [
      "Parsed with column specification:\n",
      "cols(\n",
      "  sub_id = col_character(),\n",
      "  tx_code = col_double(),\n",
      "  Age = col_double(),\n",
      "  Sex = col_double(),\n",
      "  deltaFD = col_double(),\n",
      "  IGT_p_diff = col_double(),\n",
      "  IGT_q_diff = col_double(),\n",
      "  TS_RT_diff = col_double(),\n",
      "  TS_ACC_diff = col_double(),\n",
      "  stroop_int_diff = col_double(),\n",
      "  stroop_fac_diff = col_double(),\n",
      "  nback_RT_diff = col_double(),\n",
      "  nback_ACC_diff = col_double(),\n",
      "  PC1 = col_double(),\n",
      "  PC2 = col_double(),\n",
      "  PC3 = col_double(),\n",
      "  fiberMean = col_double()\n",
      ")\n",
      "Parsed with column specification:\n",
      "cols(\n",
      "  sub_id = col_character(),\n",
      "  tx_code = col_double(),\n",
      "  Age = col_double(),\n",
      "  Sex = col_double(),\n",
      "  deltaFD = col_double(),\n",
      "  IGT_p_diff = col_double(),\n",
      "  IGT_q_diff = col_double(),\n",
      "  TS_RT_diff = col_double(),\n",
      "  TS_ACC_diff = col_double(),\n",
      "  stroop_int_diff = col_double(),\n",
      "  stroop_fac_diff = col_double(),\n",
      "  nback_RT_diff = col_double(),\n",
      "  nback_ACC_diff = col_double(),\n",
      "  PC1 = col_double(),\n",
      "  PC2 = col_double(),\n",
      "  PC3 = col_double(),\n",
      "  fiberMean = col_double()\n",
      ")\n",
      "Parsed with column specification:\n",
      "cols(\n",
      "  sub_id = col_character(),\n",
      "  tx_code = col_double(),\n",
      "  Age = col_double(),\n",
      "  Sex = col_double(),\n",
      "  deltaFD = col_double(),\n",
      "  IGT_p_diff = col_double(),\n",
      "  IGT_q_diff = col_double(),\n",
      "  TS_RT_diff = col_double(),\n",
      "  TS_ACC_diff = col_double(),\n",
      "  stroop_int_diff = col_double(),\n",
      "  stroop_fac_diff = col_double(),\n",
      "  nback_RT_diff = col_double(),\n",
      "  nback_ACC_diff = col_double(),\n",
      "  PC1 = col_double(),\n",
      "  PC2 = col_double(),\n",
      "  PC3 = col_double(),\n",
      "  fiberMean = col_double()\n",
      ")\n",
      "Parsed with column specification:\n",
      "cols(\n",
      "  sub_id = col_character(),\n",
      "  tx_code = col_double(),\n",
      "  Age = col_double(),\n",
      "  Sex = col_double(),\n",
      "  deltaFD = col_double(),\n",
      "  IGT_p_diff = col_double(),\n",
      "  IGT_q_diff = col_double(),\n",
      "  TS_RT_diff = col_double(),\n",
      "  TS_ACC_diff = col_double(),\n",
      "  stroop_int_diff = col_double(),\n",
      "  stroop_fac_diff = col_double(),\n",
      "  nback_RT_diff = col_double(),\n",
      "  nback_ACC_diff = col_double(),\n",
      "  PC1 = col_double(),\n",
      "  PC2 = col_double(),\n",
      "  PC3 = col_double(),\n",
      "  fiberMean = col_double()\n",
      ")\n"
     ]
    }
   ],
   "source": [
    "# Load libraries (clean up afterwards to only those you need)\n",
    "library(\"tidyverse\")\n",
    "library(\"knitr\")\n",
    "library(\"pander\")\n",
    "library(\"car\")  \n",
    "\n",
    "PC1_less<- read_csv('~/Google Drive/WIN_Matter/analysis/data/PC1_lesser_sigOnly_fibers_grubbs.csv')\n",
    "#PC1_less<- mutate(PC1_less, tx_code=factor(tx_code, \n",
    "#                  levels=1:3, \n",
    "#                  labels=c(\"DIET\",\"MOD-PA\",\"HIGH-PA\")))\n",
    "\n",
    "PC1_great<- read_csv('~/Google Drive/WIN_Matter/analysis/data/PC1_greater_sigOnly_fibers_grubbs.csv')\n",
    "#PC1_great<- mutate(PC1_great, tx_code=factor(tx_code, \n",
    "#                  levels=1:3, \n",
    "#                  labels=c(\"DIET\",\"MOD-PA\",\"HIGH-PA\")))\n",
    "\n",
    "PC2_great<- read_csv('~/Google Drive/WIN_Matter/analysis/data/PC2_greater_sigOnly_fibers_grubbs.csv')\n",
    "#PC2_great<- mutate(PC2_great, tx_code=factor(tx_code, \n",
    "#                  levels=1:3, \n",
    "#                  labels=c(\"DIET\",\"MOD-PA\",\"HIGH-PA\")))\n",
    "\n",
    "PC2_less<- read_csv('~/Google Drive/WIN_Matter/analysis/data/PC2_lesser_sigOnly_fibers_grubbs.csv')\n",
    "#PC2_less<- mutate(PC2_less, tx_code=factor(tx_code, \n",
    "#                  levels=1:3, \n",
    "#                  labels=c(\"DIET\",\"MOD-PA\",\"HIGH-PA\")))\n",
    "\n",
    "\n",
    "#Bayes table \n",
    "model.BF  = matrix(data=NA, nrow=4, ncol=1)"
   ]
  },
  {
   "cell_type": "code",
   "execution_count": 5,
   "metadata": {},
   "outputs": [],
   "source": [
    "BF.PC1_great.full = BIC(aov(fiberMean~tx_code, data=PC1_great))\n",
    "BF.PC1_great.null = BIC(aov(fiberMean~1, data=PC1_great))\n",
    "BF.PC1_great.BayesFactor = exp((BF.PC1_great.full -BF.PC1_great.null)/2) \n",
    "model.BF[1,1]=BF.PC1_great.BayesFactor"
   ]
  },
  {
   "cell_type": "code",
   "execution_count": 20,
   "metadata": {},
   "outputs": [],
   "source": [
    "BF.PC1_less.full = BIC(aov(fiberMean~tx_code, data=PC1_less))\n",
    "BF.PC1_less.null = BIC(aov(fiberMean~1, data=PC1_less))\n",
    "BF.PC1_less.BayesFactor = exp((BF.PC1_less.full -BF.PC1_less.null)/2) \n",
    "model.BF[2,1]=BF.PC1_less.BayesFactor\n"
   ]
  },
  {
   "cell_type": "code",
   "execution_count": 21,
   "metadata": {},
   "outputs": [],
   "source": [
    "BF.PC2_great.full = BIC(aov(fiberMean~tx_code, data=PC2_great))\n",
    "BF.PC2_great.null = BIC(aov(fiberMean~1, data=PC2_great))\n",
    "BF.PC2_great.BayesFactor = exp((BF.PC2_great.full -BF.PC2_great.null)/2) \n",
    "model.BF[3,1]=BF.PC2_great.BayesFactor"
   ]
  },
  {
   "cell_type": "code",
   "execution_count": 22,
   "metadata": {},
   "outputs": [],
   "source": [
    "BF.PC2_less.full = BIC(aov(fiberMean~tx_code, data=PC2_less))\n",
    "BF.PC2_less.null = BIC(aov(fiberMean~1, data=PC2_less))\n",
    "BF.PC2_less.BayesFactor = exp((BF.PC2_less.full -BF.PC2_less.null)/2) \n",
    "model.BF[4,1]=BF.PC2_less.BayesFactor\n"
   ]
  },
  {
   "cell_type": "code",
   "execution_count": 23,
   "metadata": {},
   "outputs": [
    {
     "data": {
      "text/html": [
       "<table>\n",
       "<thead><tr><th></th><th scope=col>Group</th></tr></thead>\n",
       "<tbody>\n",
       "\t<tr><th scope=row>PC1 Greater</th><td>125.31835</td></tr>\n",
       "\t<tr><th scope=row>PC1 Lesser</th><td> 22.18166</td></tr>\n",
       "\t<tr><th scope=row>PC2 Greater</th><td> 15.93179</td></tr>\n",
       "\t<tr><th scope=row>PC2 Lesser</th><td> 80.53001</td></tr>\n",
       "</tbody>\n",
       "</table>\n"
      ],
      "text/latex": [
       "\\begin{tabular}{r|l}\n",
       "  & Group\\\\\n",
       "\\hline\n",
       "\tPC1 Greater & 125.31835\\\\\n",
       "\tPC1 Lesser &  22.18166\\\\\n",
       "\tPC2 Greater &  15.93179\\\\\n",
       "\tPC2 Lesser &  80.53001\\\\\n",
       "\\end{tabular}\n"
      ],
      "text/markdown": [
       "\n",
       "| <!--/--> | Group | \n",
       "|---|---|---|---|\n",
       "| PC1 Greater | 125.31835 | \n",
       "| PC1 Lesser |  22.18166 | \n",
       "| PC2 Greater |  15.93179 | \n",
       "| PC2 Lesser |  80.53001 | \n",
       "\n",
       "\n"
      ],
      "text/plain": [
       "            Group    \n",
       "PC1 Greater 125.31835\n",
       "PC1 Lesser   22.18166\n",
       "PC2 Greater  15.93179\n",
       "PC2 Lesser   80.53001"
      ]
     },
     "metadata": {},
     "output_type": "display_data"
    },
    {
     "name": "stdout",
     "output_type": "stream",
     "text": [
      "\n",
      "\n",
      "|     &nbsp;      | Group |\n",
      "|:---------------:|:-----:|\n",
      "| **PC1 Greater** | 125.3 |\n",
      "| **PC1 Lesser**  | 22.18 |\n",
      "| **PC2 Greater** | 15.93 |\n",
      "| **PC2 Lesser**  | 80.53 |\n",
      "\n"
     ]
    }
   ],
   "source": [
    "colnames(model.BF)=c('Group')\n",
    "rownames(model.BF)=c('PC1 Greater','PC1 Lesser','PC2 Greater','PC2 Lesser')\n",
    "model.BF\n",
    "\n",
    "pander(model.BF)"
   ]
  },
  {
   "cell_type": "code",
   "execution_count": 26,
   "metadata": {},
   "outputs": [],
   "source": [
    "#write.csv(model.BF, file='~/Google Drive/WIN_Matter/analysis/output/images/Bayes/BF.csv')\n",
    "png(file=\"~/Google Drive/WIN_Matter/analysis/output/images/Bayes/BF.png\") \n",
    "#writePNG(model.BF)"
   ]
  },
  {
   "cell_type": "code",
   "execution_count": null,
   "metadata": {},
   "outputs": [],
   "source": []
  }
 ],
 "metadata": {
  "kernelspec": {
   "display_name": "R",
   "language": "R",
   "name": "ir"
  },
  "language_info": {
   "codemirror_mode": "r",
   "file_extension": ".r",
   "mimetype": "text/x-r-source",
   "name": "R",
   "pygments_lexer": "r",
   "version": "3.4.4"
  }
 },
 "nbformat": 4,
 "nbformat_minor": 2
}
