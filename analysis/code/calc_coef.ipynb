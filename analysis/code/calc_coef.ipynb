{
 "cells": [
  {
   "cell_type": "code",
   "execution_count": 35,
   "metadata": {},
   "outputs": [],
   "source": [
    "get_coef_values= function(fiber, df){\n",
    "    df=mutate(df, Sex=as.factor(Sex))\n",
    "    lm_reg=lm(df[[fiber]]~PC2+PC1+PC3+Sex+Age+deltaFD, data=df)\n",
    "    #change depending on what you are extracting\n",
    "    coef=lm_reg$coefficients[2]\n",
    "    #change depending on what you are extracting\n",
    "    p=summary(lm_reg)$coefficients[2,4]\n",
    "    if(p<.05){\n",
    "        psig=c(1)\n",
    "    }else{\n",
    "        psig=c(0)\n",
    "    }\n",
    "    Fiber_name=c(fiber)\n",
    "    PC2_lesser=c(coef)\n",
    "    row_info=data.frame(Fiber_name, PC2_lesser, psig)\n",
    "    return(row_info)\n",
    "}"
   ]
  },
  {
   "cell_type": "code",
   "execution_count": 36,
   "metadata": {},
   "outputs": [
    {
     "name": "stderr",
     "output_type": "stream",
     "text": [
      "Parsed with column specification:\n",
      "cols(\n",
      "  .default = col_double(),\n",
      "  sub_id = col_character(),\n",
      "  Age = col_integer(),\n",
      "  Sex = col_integer()\n",
      ")\n",
      "See spec(...) for full column specifications.\n"
     ]
    }
   ],
   "source": [
    "library('tidyverse')\n",
    "#open the df you want to use\n",
    "df=read_csv('/WIN_Matter/analysis/data/PC2_lesser_mask.csv')\n",
    "#make a list to iterate over all fibers\n",
    "subset_fibers <- df %>% dplyr:: select(starts_with(\"f\"))\n",
    "fiberList=colnames(subset_fibers)\n",
    "#making an output dataframe for the coefficient values\n",
    "coef_vector=NULL\n",
    "for (fiber in fiberList){\n",
    "    row_info=get_coef_values(fiber, df)\n",
    "    #Fiber_name=c(fiber)\n",
    "    #PC1_greater=c(coef)\n",
    "    #row_info=data.frame(Fiber_name, PC1_greater)\n",
    "    coef_vector=rbind(coef_vector, row_info)\n",
    "write.csv(coef_vector, \"/WIN_Matter/analysis/data/PC2_lesser_coef.csv\", row.names=FALSE)\n",
    "    \n",
    "}"
   ]
  },
  {
   "cell_type": "code",
   "execution_count": null,
   "metadata": {},
   "outputs": [],
   "source": []
  }
 ],
 "metadata": {
  "kernelspec": {
   "display_name": "R",
   "language": "R",
   "name": "ir"
  },
  "language_info": {
   "codemirror_mode": "r",
   "file_extension": ".r",
   "mimetype": "text/x-r-source",
   "name": "R",
   "pygments_lexer": "r",
   "version": "3.4.4"
  }
 },
 "nbformat": 4,
 "nbformat_minor": 2
}
