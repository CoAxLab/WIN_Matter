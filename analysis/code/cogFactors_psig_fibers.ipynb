{
 "cells": [
  {
   "cell_type": "code",
   "execution_count": 1,
   "metadata": {},
   "outputs": [],
   "source": [
    "get_coef_values= function(fiber, df, pc){\n",
    "    df=mutate(df, Sex=as.factor(Sex))\n",
    "    #IGTp \n",
    "    IGTp_lm=lm(IGT_p_diff~df[[fiber]]+Sex+Age+deltaFD, data=df)\n",
    "    IGTp_SE=format(round(summary(IGTp_lm)$coefficients[2,2], digits=2))\n",
    "    IGTp_pval=summary(IGTp_lm)$coefficients[2,4]\n",
    "    if(IGTp_pval<.05){\n",
    "        IGTp_coef=paste(format((IGTp_lm$coefficients[2]), digits=4),'*')\n",
    "    }else{\n",
    "        IGTp_coef=format((IGTp_lm$coefficients[2]), digits=4)\n",
    "    }\n",
    "    #IGTq\n",
    "    IGTq_lm=lm(IGT_q_diff~df[[fiber]]+Sex+Age+deltaFD, data=df)\n",
    "    IGTq_SE=format(round(summary(IGTq_lm)$coefficients[2,2], digits=2))\n",
    "    IGTq_pval=summary(IGTq_lm)$coefficients[2,4]\n",
    "    if(IGTq_pval<.05){\n",
    "        IGTq_coef=paste(format((IGTq_lm$coefficients[2]), digits=4),'*')\n",
    "    }else{\n",
    "        IGTq_coef=format((IGTq_lm$coefficients[2]),digits=4)\n",
    "    }\n",
    "    #TS RT\n",
    "    TS_RT_lm=lm(TS_RT_diff~df[[fiber]]+Sex+Age+deltaFD, data=df)\n",
    "    TS_RT_SE=format(round(summary(TS_RT_lm)$coefficients[2,2], digits=2))\n",
    "    TS_RT_pval=summary(TS_RT_lm)$coefficients[2,4]\n",
    "    if(TS_RT_pval<.05){\n",
    "        TS_RT_coef=paste(format((TS_RT_lm$coefficients[2]), digits=4),'*')\n",
    "    }else{\n",
    "        TS_RT_coef=format((TS_RT_lm$coefficients[2]), digits=4)\n",
    "    }\n",
    "    #TS ACC\n",
    "    TS_ACC_lm=lm(TS_ACC_diff~df[[fiber]]+Sex+Age+deltaFD, data=df)\n",
    "    TS_ACC_SE=format(round(summary(TS_ACC_lm)$coefficients[2,2], digits=2))\n",
    "    TS_ACC_pval=summary(TS_ACC_lm)$coefficients[2,4]\n",
    "    if(TS_ACC_pval<.05){\n",
    "        TS_ACC_coef=paste(format((TS_ACC_lm$coefficients[2]), digits=1),'*')\n",
    "    }else{\n",
    "        TS_ACC_coef=format((TS_ACC_lm$coefficients[2]), digits=1)\n",
    "    }\n",
    "    #nback RT\n",
    "    nback_RT_lm=lm(nback_RT_diff~df[[fiber]]+Sex+Age+deltaFD, data=df)\n",
    "    nback_RT_SE=format(round(summary(nback_RT_lm)$coefficients[2,2], digits=2))\n",
    "    nback_RT_pval=summary(nback_RT_lm)$coefficients[2,4]\n",
    "    if(nback_RT_pval<.05){\n",
    "        nback_RT_coef=paste(format((nback_RT_lm$coefficients[2]), digits=4),'*')\n",
    "    }else{\n",
    "        nback_RT_coef=format((nback_RT_lm$coefficients[2]), digits=4)\n",
    "    }\n",
    "    #nback ACC\n",
    "    nback_ACC_lm=lm(nback_ACC_diff~df[[fiber]]+Sex+Age+deltaFD, data=df)\n",
    "    nback_ACC_SE=format(round(summary(nback_ACC_lm)$coefficients[2,2], digits=2))\n",
    "    nback_ACC_pval=summary(nback_ACC_lm)$coefficients[2,4]\n",
    "    if(nback_ACC_pval<.05){\n",
    "        nback_ACC_coef=paste(format((nback_ACC_lm$coefficients[2]), digits=1),'*')\n",
    "    }else{\n",
    "        nback_ACC_coef=format((nback_ACC_lm$coefficients[2]),digits=1)\n",
    "    }\n",
    "    #stroop int\n",
    "    stroop_int_lm=lm(stroop_int_diff~df[[fiber]]+Sex+Age+deltaFD, data=df)\n",
    "    stroop_int_SE=format(round(summary(stroop_int_lm)$coefficients[2,2], digits=2))\n",
    "    stroop_int_pval=summary(stroop_int_lm)$coefficients[2,4]\n",
    "    if(stroop_int_pval<.05){\n",
    "        stroop_int_coef=paste(format((stroop_int_lm$coefficients[2]), digits=4),'*')\n",
    "    }else{\n",
    "        stroop_int_coef=format((stroop_int_lm$coefficients[2]), digits=4)\n",
    "    }\n",
    "    #stroop fac\n",
    "    stroop_fac_lm=lm(stroop_fac_diff~df[[fiber]]+Sex+Age+deltaFD, data=df)\n",
    "    stroop_fac_SE=format(round(summary(stroop_fac_lm)$coefficients[2,2], digits=2))\n",
    "    stroop_fac_pval=summary(stroop_fac_lm)$coefficients[2,4]\n",
    "    if(stroop_fac_pval<.05){\n",
    "        stroop_fac_coef=paste(format((stroop_fac_lm$coefficients[2]), digits=4),'*')\n",
    "    }else{\n",
    "        stroop_fac_coef=format((stroop_fac_lm$coefficients[2]), digits=4)\n",
    "    }\n",
    "    #extracting all relevant information from each cogfactor analysis and aggregating to df\n",
    "    PC=c(pc)\n",
    "    IGT_p_diff=c(IGTp_coef)\n",
    "    IGT_q_diff=c(IGTq_coef)\n",
    "    TS_RT_diff=c(TS_RT_coef)\n",
    "    TS_ACC_diff=c(TS_ACC_coef)\n",
    "    stroop_int_diff=c(stroop_int_coef)\n",
    "    stroop_fac_diff=c(stroop_fac_coef)\n",
    "    nback_RT_diff=c(nback_RT_coef)\n",
    "    nback_ACC_diff=c(nback_ACC_coef)\n",
    "    row_info=data.frame(PC, IGT_p_diff, IGTp_SE, IGT_q_diff, IGTq_SE, TS_RT_diff, TS_RT_SE, TS_ACC_diff, TS_ACC_SE, stroop_int_diff, stroop_int_SE, stroop_fac_diff, stroop_fac_SE, nback_RT_diff, nback_RT_SE, nback_ACC_diff, nback_ACC_SE) \n",
    "    return(row_info)\n",
    "}"
   ]
  },
  {
   "cell_type": "code",
   "execution_count": 2,
   "metadata": {},
   "outputs": [
    {
     "name": "stderr",
     "output_type": "stream",
     "text": [
      "── Attaching packages ─────────────────────────────────────── tidyverse 1.2.1 ──\n",
      "✔ ggplot2 2.2.1     ✔ purrr   0.2.4\n",
      "✔ tibble  1.4.2     ✔ dplyr   0.7.4\n",
      "✔ tidyr   0.8.0     ✔ stringr 1.3.0\n",
      "✔ readr   1.1.1     ✔ forcats 0.3.0\n",
      "── Conflicts ────────────────────────────────────────── tidyverse_conflicts() ──\n",
      "✖ dplyr::filter() masks stats::filter()\n",
      "✖ dplyr::lag()    masks stats::lag()\n",
      "\n",
      "Attaching package: ‘gridExtra’\n",
      "\n",
      "The following object is masked from ‘package:dplyr’:\n",
      "\n",
      "    combine\n",
      "\n",
      "Parsed with column specification:\n",
      "cols(\n",
      "  sub_id = col_character(),\n",
      "  tx_code = col_double(),\n",
      "  Age = col_double(),\n",
      "  Sex = col_double(),\n",
      "  deltaFD = col_double(),\n",
      "  IGT_p_diff = col_double(),\n",
      "  IGT_q_diff = col_double(),\n",
      "  TS_RT_diff = col_double(),\n",
      "  TS_ACC_diff = col_double(),\n",
      "  stroop_int_diff = col_double(),\n",
      "  stroop_fac_diff = col_double(),\n",
      "  nback_RT_diff = col_double(),\n",
      "  nback_ACC_diff = col_double(),\n",
      "  PC1 = col_double(),\n",
      "  PC2 = col_double(),\n",
      "  PC3 = col_double(),\n",
      "  fiberMean = col_double()\n",
      ")\n",
      "Parsed with column specification:\n",
      "cols(\n",
      "  sub_id = col_character(),\n",
      "  tx_code = col_double(),\n",
      "  Age = col_double(),\n",
      "  Sex = col_double(),\n",
      "  deltaFD = col_double(),\n",
      "  IGT_p_diff = col_double(),\n",
      "  IGT_q_diff = col_double(),\n",
      "  TS_RT_diff = col_double(),\n",
      "  TS_ACC_diff = col_double(),\n",
      "  stroop_int_diff = col_double(),\n",
      "  stroop_fac_diff = col_double(),\n",
      "  nback_RT_diff = col_double(),\n",
      "  nback_ACC_diff = col_double(),\n",
      "  PC1 = col_double(),\n",
      "  PC2 = col_double(),\n",
      "  PC3 = col_double(),\n",
      "  fiberMean = col_double()\n",
      ")\n",
      "Parsed with column specification:\n",
      "cols(\n",
      "  sub_id = col_character(),\n",
      "  tx_code = col_double(),\n",
      "  Age = col_double(),\n",
      "  Sex = col_double(),\n",
      "  deltaFD = col_double(),\n",
      "  IGT_p_diff = col_double(),\n",
      "  IGT_q_diff = col_double(),\n",
      "  TS_RT_diff = col_double(),\n",
      "  TS_ACC_diff = col_double(),\n",
      "  stroop_int_diff = col_double(),\n",
      "  stroop_fac_diff = col_double(),\n",
      "  nback_RT_diff = col_double(),\n",
      "  nback_ACC_diff = col_double(),\n",
      "  PC1 = col_double(),\n",
      "  PC2 = col_double(),\n",
      "  PC3 = col_double(),\n",
      "  fiberMean = col_double()\n",
      ")\n",
      "Parsed with column specification:\n",
      "cols(\n",
      "  sub_id = col_character(),\n",
      "  tx_code = col_double(),\n",
      "  Age = col_double(),\n",
      "  Sex = col_double(),\n",
      "  deltaFD = col_double(),\n",
      "  IGT_p_diff = col_double(),\n",
      "  IGT_q_diff = col_double(),\n",
      "  TS_RT_diff = col_double(),\n",
      "  TS_ACC_diff = col_double(),\n",
      "  stroop_int_diff = col_double(),\n",
      "  stroop_fac_diff = col_double(),\n",
      "  nback_RT_diff = col_double(),\n",
      "  nback_ACC_diff = col_double(),\n",
      "  PC1 = col_double(),\n",
      "  PC2 = col_double(),\n",
      "  PC3 = col_double(),\n",
      "  fiberMean = col_double()\n",
      ")\n"
     ]
    },
    {
     "data": {
      "text/html": [
       "<strong>pdf:</strong> 2"
      ],
      "text/latex": [
       "\\textbf{pdf:} 2"
      ],
      "text/markdown": [
       "**pdf:** 2"
      ],
      "text/plain": [
       "pdf \n",
       "  2 "
      ]
     },
     "metadata": {},
     "output_type": "display_data"
    }
   ],
   "source": [
    "library('tidyverse')\n",
    "library('ggplot2')\n",
    "library('gridExtra')\n",
    "#open the df you want to use\n",
    "PC1_great<- read_csv('~/Google Drive/WIN_Matter/analysis/data/PC1_greater_sigOnly_fibers_grubbs.csv')\n",
    "PC1_less<- read_csv('~/Google Drive/WIN_Matter/analysis/data/PC1_lesser_sigOnly_fibers_grubbs.csv')\n",
    "PC2_great<- read_csv('~/Google Drive/WIN_Matter/analysis/data/PC2_greater_sigOnly_fibers_grubbs.csv')\n",
    "PC2_less<- read_csv('~/Google Drive/WIN_Matter/analysis/data/PC2_lesser_sigOnly_fibers_grubbs.csv')\n",
    "\n",
    "\n",
    "PC1_great_coef=get_coef_values('fiberMean', PC1_great, 'PC1(+)')\n",
    "PC1_less_coef=get_coef_values('fiberMean', PC1_less, 'PC1(-)')\n",
    "PC2_great_coef=get_coef_values('fiberMean', PC2_great, 'PC2(+)')\n",
    "PC2_less_coef=get_coef_values('fiberMean', PC2_less, 'PC2(-)')\n",
    "coef_vector=rbind(PC1_great_coef, PC1_less_coef, PC2_great_coef, PC2_less_coef)\n",
    "#write.csv(coef_vector, \"/data/dataDB/WIN_Matter/analysis/data/cogFactors_fibers_coef.csv\", row.names=FALSE)\n",
    "#rename columns to make sense of table\n",
    "names(coef_vector)=c(\"PC and fiber direction\", \"IGT p coef\", \"IGT p SE\", \"IGT q coef\", \n",
    "                     \"IGT q SE\", \"Task Switch RT coef\", \"Task Switch RT SE\", \"Task Switch ACC coef\",\n",
    "                     \"Task Switch ACC SE\", \"Stroop Interference coef\", \n",
    "                     \"Stroop Interference SE\",\"Stroop Facilitation coef\", \n",
    "                     \"Stroop Faciliation SE\", \"nback RT coef\", \n",
    "                     \"nback RT SE\", \"nback ACC coef\", \"nback ACC SE\")\n",
    "rownames(coef_vector)=NULL\n",
    "write.csv(coef_vector, \"~/Google Drive/WIN_Matter/analysis/data/cogFactors_fibers_coef.csv\", row.names=FALSE)\n",
    "png(\"~/Google Drive/WIN_Matter/analysis/output/results/cogFacors_fibers_coef_grubbs.png\", height=300, width=1900)\n",
    "p<-tableGrob(coef_vector, rows=NULL)\n",
    "grid.arrange(p)\n",
    "dev.off()"
   ]
  },
  {
   "cell_type": "code",
   "execution_count": 3,
   "metadata": {},
   "outputs": [
    {
     "data": {
      "text/html": [
       "<table>\n",
       "<thead><tr><th scope=col>PC and fiber direction</th><th scope=col>IGT p coef</th><th scope=col>IGT p SE</th><th scope=col>IGT q coef</th><th scope=col>IGT q SE</th><th scope=col>Task Switch RT coef</th><th scope=col>Task Switch RT SE</th><th scope=col>Task Switch ACC coef</th><th scope=col>Task Switch ACC SE</th><th scope=col>Stroop Interference coef</th><th scope=col>Stroop Interference SE</th><th scope=col>Stroop Facilitation coef</th><th scope=col>Stroop Faciliation SE</th><th scope=col>nback RT coef</th><th scope=col>nback RT SE</th><th scope=col>nback ACC coef</th><th scope=col>nback ACC SE</th></tr></thead>\n",
       "<tbody>\n",
       "\t<tr><td>PC1(+)  </td><td>17.51   </td><td>22.26   </td><td>0.8163  </td><td>21.48   </td><td>22.75   </td><td>64.06   </td><td>-0.01   </td><td>0.04    </td><td>-16.4   </td><td>42.34   </td><td>-34.86  </td><td>27.99   </td><td>-170    </td><td>89.47   </td><td>0.2 *   </td><td>0.1     </td></tr>\n",
       "\t<tr><td>PC1(-)  </td><td>37.22   </td><td>21.19   </td><td>17.52   </td><td>21.05   </td><td>-33.09  </td><td>60.42   </td><td>-0.01   </td><td>0.04    </td><td>38.99   </td><td>40.32   </td><td>31.68   </td><td>27.11   </td><td>51.33   </td><td>91.65   </td><td>-0.1    </td><td>0.1     </td></tr>\n",
       "\t<tr><td>PC2(+)  </td><td>12.74   </td><td>13.62   </td><td>15.72   </td><td>13.07   </td><td>11.71   </td><td>38.71   </td><td>-0.02   </td><td>0.03    </td><td>15.73   </td><td>25.79   </td><td>-8.412  </td><td>17.3    </td><td>-64.3   </td><td>55.08   </td><td>0.08    </td><td>0.06    </td></tr>\n",
       "\t<tr><td>PC2(-)  </td><td>8.16    </td><td>18.58   </td><td>-35.67 *</td><td>17.39   </td><td>-33.3   </td><td>51.89   </td><td>0.06    </td><td>0.04    </td><td>-30.14  </td><td>35.06   </td><td>-5.802  </td><td>23.52   </td><td>6.297   </td><td>75.33   </td><td>-0.07   </td><td>0.08    </td></tr>\n",
       "</tbody>\n",
       "</table>\n"
      ],
      "text/latex": [
       "\\begin{tabular}{r|lllllllllllllllll}\n",
       " PC and fiber direction & IGT p coef & IGT p SE & IGT q coef & IGT q SE & Task Switch RT coef & Task Switch RT SE & Task Switch ACC coef & Task Switch ACC SE & Stroop Interference coef & Stroop Interference SE & Stroop Facilitation coef & Stroop Faciliation SE & nback RT coef & nback RT SE & nback ACC coef & nback ACC SE\\\\\n",
       "\\hline\n",
       "\t PC1(+)   & 17.51    & 22.26    & 0.8163   & 21.48    & 22.75    & 64.06    & -0.01    & 0.04     & -16.4    & 42.34    & -34.86   & 27.99    & -170     & 89.47    & 0.2 *    & 0.1     \\\\\n",
       "\t PC1(-)   & 37.22    & 21.19    & 17.52    & 21.05    & -33.09   & 60.42    & -0.01    & 0.04     & 38.99    & 40.32    & 31.68    & 27.11    & 51.33    & 91.65    & -0.1     & 0.1     \\\\\n",
       "\t PC2(+)   & 12.74    & 13.62    & 15.72    & 13.07    & 11.71    & 38.71    & -0.02    & 0.03     & 15.73    & 25.79    & -8.412   & 17.3     & -64.3    & 55.08    & 0.08     & 0.06    \\\\\n",
       "\t PC2(-)   & 8.16     & 18.58    & -35.67 * & 17.39    & -33.3    & 51.89    & 0.06     & 0.04     & -30.14   & 35.06    & -5.802   & 23.52    & 6.297    & 75.33    & -0.07    & 0.08    \\\\\n",
       "\\end{tabular}\n"
      ],
      "text/markdown": [
       "\n",
       "PC and fiber direction | IGT p coef | IGT p SE | IGT q coef | IGT q SE | Task Switch RT coef | Task Switch RT SE | Task Switch ACC coef | Task Switch ACC SE | Stroop Interference coef | Stroop Interference SE | Stroop Facilitation coef | Stroop Faciliation SE | nback RT coef | nback RT SE | nback ACC coef | nback ACC SE | \n",
       "|---|---|---|---|\n",
       "| PC1(+)   | 17.51    | 22.26    | 0.8163   | 21.48    | 22.75    | 64.06    | -0.01    | 0.04     | -16.4    | 42.34    | -34.86   | 27.99    | -170     | 89.47    | 0.2 *    | 0.1      | \n",
       "| PC1(-)   | 37.22    | 21.19    | 17.52    | 21.05    | -33.09   | 60.42    | -0.01    | 0.04     | 38.99    | 40.32    | 31.68    | 27.11    | 51.33    | 91.65    | -0.1     | 0.1      | \n",
       "| PC2(+)   | 12.74    | 13.62    | 15.72    | 13.07    | 11.71    | 38.71    | -0.02    | 0.03     | 15.73    | 25.79    | -8.412   | 17.3     | -64.3    | 55.08    | 0.08     | 0.06     | \n",
       "| PC2(-)   | 8.16     | 18.58    | -35.67 * | 17.39    | -33.3    | 51.89    | 0.06     | 0.04     | -30.14   | 35.06    | -5.802   | 23.52    | 6.297    | 75.33    | -0.07    | 0.08     | \n",
       "\n",
       "\n"
      ],
      "text/plain": [
       "  PC and fiber direction IGT p coef IGT p SE IGT q coef IGT q SE\n",
       "1 PC1(+)                 17.51      22.26    0.8163     21.48   \n",
       "2 PC1(-)                 37.22      21.19    17.52      21.05   \n",
       "3 PC2(+)                 12.74      13.62    15.72      13.07   \n",
       "4 PC2(-)                 8.16       18.58    -35.67 *   17.39   \n",
       "  Task Switch RT coef Task Switch RT SE Task Switch ACC coef Task Switch ACC SE\n",
       "1 22.75               64.06             -0.01                0.04              \n",
       "2 -33.09              60.42             -0.01                0.04              \n",
       "3 11.71               38.71             -0.02                0.03              \n",
       "4 -33.3               51.89             0.06                 0.04              \n",
       "  Stroop Interference coef Stroop Interference SE Stroop Facilitation coef\n",
       "1 -16.4                    42.34                  -34.86                  \n",
       "2 38.99                    40.32                  31.68                   \n",
       "3 15.73                    25.79                  -8.412                  \n",
       "4 -30.14                   35.06                  -5.802                  \n",
       "  Stroop Faciliation SE nback RT coef nback RT SE nback ACC coef nback ACC SE\n",
       "1 27.99                 -170          89.47       0.2 *          0.1         \n",
       "2 27.11                 51.33         91.65       -0.1           0.1         \n",
       "3 17.3                  -64.3         55.08       0.08           0.06        \n",
       "4 23.52                 6.297         75.33       -0.07          0.08        "
      ]
     },
     "metadata": {},
     "output_type": "display_data"
    }
   ],
   "source": [
    "coef_vector"
   ]
  },
  {
   "cell_type": "code",
   "execution_count": 6,
   "metadata": {},
   "outputs": [
    {
     "data": {
      "text/html": [
       "<strong>pdf:</strong> 2"
      ],
      "text/latex": [
       "\\textbf{pdf:} 2"
      ],
      "text/markdown": [
       "**pdf:** 2"
      ],
      "text/plain": [
       "pdf \n",
       "  2 "
      ]
     },
     "metadata": {},
     "output_type": "display_data"
    }
   ],
   "source": [
    "IGTdata=coef_vector[c(1:5)]\n",
    "png(\"~/Google Drive/WIN_Matter/analysis/output/results/IGT_fibers_coef_grubbs.png\", height=300, width=1900)\n",
    "p<-tableGrob(IGTdata, rows=NULL)\n",
    "grid.arrange(p)\n",
    "dev.off()"
   ]
  },
  {
   "cell_type": "code",
   "execution_count": 9,
   "metadata": {},
   "outputs": [
    {
     "data": {
      "text/html": [
       "<strong>pdf:</strong> 2"
      ],
      "text/latex": [
       "\\textbf{pdf:} 2"
      ],
      "text/markdown": [
       "**pdf:** 2"
      ],
      "text/plain": [
       "pdf \n",
       "  2 "
      ]
     },
     "metadata": {},
     "output_type": "display_data"
    }
   ],
   "source": [
    "TSdata=coef_vector[c(1, 6:9)]\n",
    "png(\"~/Google Drive/WIN_Matter/analysis/output/results/TS_fibers_coef_grubbs.png\", height=300, width=1900)\n",
    "p<-tableGrob(TSdata, rows=NULL)\n",
    "grid.arrange(p)\n",
    "dev.off()"
   ]
  },
  {
   "cell_type": "code",
   "execution_count": 12,
   "metadata": {},
   "outputs": [
    {
     "data": {
      "text/html": [
       "<strong>pdf:</strong> 2"
      ],
      "text/latex": [
       "\\textbf{pdf:} 2"
      ],
      "text/markdown": [
       "**pdf:** 2"
      ],
      "text/plain": [
       "pdf \n",
       "  2 "
      ]
     },
     "metadata": {},
     "output_type": "display_data"
    }
   ],
   "source": [
    "stroop_data=coef_vector[c(1, 10:13)]\n",
    "png(\"~/Google Drive/WIN_Matter/analysis/output/results/stroop_fibers_coef_grubbs.png\", height=300, width=1900)\n",
    "p<-tableGrob(stroop_data, rows=NULL)\n",
    "grid.arrange(p)\n",
    "dev.off()\n"
   ]
  },
  {
   "cell_type": "code",
   "execution_count": 15,
   "metadata": {},
   "outputs": [
    {
     "data": {
      "text/html": [
       "<strong>pdf:</strong> 2"
      ],
      "text/latex": [
       "\\textbf{pdf:} 2"
      ],
      "text/markdown": [
       "**pdf:** 2"
      ],
      "text/plain": [
       "pdf \n",
       "  2 "
      ]
     },
     "metadata": {},
     "output_type": "display_data"
    }
   ],
   "source": [
    "nbackdata=coef_vector[c(1, 14:17)]\n",
    "png(\"~/Google Drive/WIN_Matter/analysis/output/results/nback_fibers_coef_grubbs.png\", height=300, width=1900)\n",
    "p<-tableGrob(nbackdata, rows=NULL)\n",
    "grid.arrange(p)\n",
    "dev.off()"
   ]
  },
  {
   "cell_type": "code",
   "execution_count": 11,
   "metadata": {},
   "outputs": [
    {
     "data": {
      "text/html": [
       "<table>\n",
       "<thead><tr><th scope=col>PC and fiber direction</th><th scope=col>Stroop Interference coef</th><th scope=col>Stroop Interference SE</th><th scope=col>Stroop Facilitation coef</th><th scope=col>Stroop Faciliation SE</th></tr></thead>\n",
       "<tbody>\n",
       "\t<tr><td>PC1(+)</td><td>-16.4 </td><td>42.34 </td><td>-34.86</td><td>27.99 </td></tr>\n",
       "\t<tr><td>PC1(-)</td><td>38.99 </td><td>40.32 </td><td>31.68 </td><td>27.11 </td></tr>\n",
       "\t<tr><td>PC2(+)</td><td>15.73 </td><td>25.79 </td><td>-8.412</td><td>17.3  </td></tr>\n",
       "\t<tr><td>PC2(-)</td><td>-30.14</td><td>35.06 </td><td>-5.802</td><td>23.52 </td></tr>\n",
       "</tbody>\n",
       "</table>\n"
      ],
      "text/latex": [
       "\\begin{tabular}{r|lllll}\n",
       " PC and fiber direction & Stroop Interference coef & Stroop Interference SE & Stroop Facilitation coef & Stroop Faciliation SE\\\\\n",
       "\\hline\n",
       "\t PC1(+) & -16.4  & 42.34  & -34.86 & 27.99 \\\\\n",
       "\t PC1(-) & 38.99  & 40.32  & 31.68  & 27.11 \\\\\n",
       "\t PC2(+) & 15.73  & 25.79  & -8.412 & 17.3  \\\\\n",
       "\t PC2(-) & -30.14 & 35.06  & -5.802 & 23.52 \\\\\n",
       "\\end{tabular}\n"
      ],
      "text/markdown": [
       "\n",
       "PC and fiber direction | Stroop Interference coef | Stroop Interference SE | Stroop Facilitation coef | Stroop Faciliation SE | \n",
       "|---|---|---|---|\n",
       "| PC1(+) | -16.4  | 42.34  | -34.86 | 27.99  | \n",
       "| PC1(-) | 38.99  | 40.32  | 31.68  | 27.11  | \n",
       "| PC2(+) | 15.73  | 25.79  | -8.412 | 17.3   | \n",
       "| PC2(-) | -30.14 | 35.06  | -5.802 | 23.52  | \n",
       "\n",
       "\n"
      ],
      "text/plain": [
       "  PC and fiber direction Stroop Interference coef Stroop Interference SE\n",
       "1 PC1(+)                 -16.4                    42.34                 \n",
       "2 PC1(-)                 38.99                    40.32                 \n",
       "3 PC2(+)                 15.73                    25.79                 \n",
       "4 PC2(-)                 -30.14                   35.06                 \n",
       "  Stroop Facilitation coef Stroop Faciliation SE\n",
       "1 -34.86                   27.99                \n",
       "2 31.68                    27.11                \n",
       "3 -8.412                   17.3                 \n",
       "4 -5.802                   23.52                "
      ]
     },
     "metadata": {},
     "output_type": "display_data"
    }
   ],
   "source": [
    "stroop_data"
   ]
  },
  {
   "cell_type": "code",
   "execution_count": 14,
   "metadata": {},
   "outputs": [
    {
     "data": {
      "text/html": [
       "<table>\n",
       "<thead><tr><th scope=col>PC and fiber direction</th><th scope=col>nback RT coef</th><th scope=col>nback RT SE</th><th scope=col>nback ACC coef</th><th scope=col>nback ACC SE</th></tr></thead>\n",
       "<tbody>\n",
       "\t<tr><td>PC1(+)</td><td>-170  </td><td>89.47 </td><td>0.2 * </td><td>0.1   </td></tr>\n",
       "\t<tr><td>PC1(-)</td><td>51.33 </td><td>91.65 </td><td>-0.1  </td><td>0.1   </td></tr>\n",
       "\t<tr><td>PC2(+)</td><td>-64.3 </td><td>55.08 </td><td>0.08  </td><td>0.06  </td></tr>\n",
       "\t<tr><td>PC2(-)</td><td>6.297 </td><td>75.33 </td><td>-0.07 </td><td>0.08  </td></tr>\n",
       "</tbody>\n",
       "</table>\n"
      ],
      "text/latex": [
       "\\begin{tabular}{r|lllll}\n",
       " PC and fiber direction & nback RT coef & nback RT SE & nback ACC coef & nback ACC SE\\\\\n",
       "\\hline\n",
       "\t PC1(+) & -170   & 89.47  & 0.2 *  & 0.1   \\\\\n",
       "\t PC1(-) & 51.33  & 91.65  & -0.1   & 0.1   \\\\\n",
       "\t PC2(+) & -64.3  & 55.08  & 0.08   & 0.06  \\\\\n",
       "\t PC2(-) & 6.297  & 75.33  & -0.07  & 0.08  \\\\\n",
       "\\end{tabular}\n"
      ],
      "text/markdown": [
       "\n",
       "PC and fiber direction | nback RT coef | nback RT SE | nback ACC coef | nback ACC SE | \n",
       "|---|---|---|---|\n",
       "| PC1(+) | -170   | 89.47  | 0.2 *  | 0.1    | \n",
       "| PC1(-) | 51.33  | 91.65  | -0.1   | 0.1    | \n",
       "| PC2(+) | -64.3  | 55.08  | 0.08   | 0.06   | \n",
       "| PC2(-) | 6.297  | 75.33  | -0.07  | 0.08   | \n",
       "\n",
       "\n"
      ],
      "text/plain": [
       "  PC and fiber direction nback RT coef nback RT SE nback ACC coef nback ACC SE\n",
       "1 PC1(+)                 -170          89.47       0.2 *          0.1         \n",
       "2 PC1(-)                 51.33         91.65       -0.1           0.1         \n",
       "3 PC2(+)                 -64.3         55.08       0.08           0.06        \n",
       "4 PC2(-)                 6.297         75.33       -0.07          0.08        "
      ]
     },
     "metadata": {},
     "output_type": "display_data"
    }
   ],
   "source": [
    "nbackdata"
   ]
  },
  {
   "cell_type": "code",
   "execution_count": 16,
   "metadata": {},
   "outputs": [
    {
     "data": {
      "text/html": [
       "<strong>pdf:</strong> 2"
      ],
      "text/latex": [
       "\\textbf{pdf:} 2"
      ],
      "text/markdown": [
       "**pdf:** 2"
      ],
      "text/plain": [
       "pdf \n",
       "  2 "
      ]
     },
     "metadata": {},
     "output_type": "display_data"
    }
   ],
   "source": [
    "nbackIGT=coef_vector[c(1:5, 14:17)]\n",
    "png(\"~/Google Drive/WIN_Matter/analysis/output/results/nbackIGT_fibers_coef_grubbs.png\", height=300, width=1900)\n",
    "p<-tableGrob(nbackIGT, rows=NULL)\n",
    "grid.arrange(p)\n",
    "dev.off()"
   ]
  },
  {
   "cell_type": "code",
   "execution_count": 17,
   "metadata": {},
   "outputs": [
    {
     "data": {
      "text/html": [
       "<table>\n",
       "<thead><tr><th scope=col>PC and fiber direction</th><th scope=col>IGT p coef</th><th scope=col>IGT p SE</th><th scope=col>IGT q coef</th><th scope=col>IGT q SE</th><th scope=col>nback RT coef</th><th scope=col>nback RT SE</th><th scope=col>nback ACC coef</th><th scope=col>nback ACC SE</th></tr></thead>\n",
       "<tbody>\n",
       "\t<tr><td>PC1(+)  </td><td>17.51   </td><td>22.26   </td><td>0.8163  </td><td>21.48   </td><td>-170    </td><td>89.47   </td><td>0.2 *   </td><td>0.1     </td></tr>\n",
       "\t<tr><td>PC1(-)  </td><td>37.22   </td><td>21.19   </td><td>17.52   </td><td>21.05   </td><td>51.33   </td><td>91.65   </td><td>-0.1    </td><td>0.1     </td></tr>\n",
       "\t<tr><td>PC2(+)  </td><td>12.74   </td><td>13.62   </td><td>15.72   </td><td>13.07   </td><td>-64.3   </td><td>55.08   </td><td>0.08    </td><td>0.06    </td></tr>\n",
       "\t<tr><td>PC2(-)  </td><td>8.16    </td><td>18.58   </td><td>-35.67 *</td><td>17.39   </td><td>6.297   </td><td>75.33   </td><td>-0.07   </td><td>0.08    </td></tr>\n",
       "</tbody>\n",
       "</table>\n"
      ],
      "text/latex": [
       "\\begin{tabular}{r|lllllllll}\n",
       " PC and fiber direction & IGT p coef & IGT p SE & IGT q coef & IGT q SE & nback RT coef & nback RT SE & nback ACC coef & nback ACC SE\\\\\n",
       "\\hline\n",
       "\t PC1(+)   & 17.51    & 22.26    & 0.8163   & 21.48    & -170     & 89.47    & 0.2 *    & 0.1     \\\\\n",
       "\t PC1(-)   & 37.22    & 21.19    & 17.52    & 21.05    & 51.33    & 91.65    & -0.1     & 0.1     \\\\\n",
       "\t PC2(+)   & 12.74    & 13.62    & 15.72    & 13.07    & -64.3    & 55.08    & 0.08     & 0.06    \\\\\n",
       "\t PC2(-)   & 8.16     & 18.58    & -35.67 * & 17.39    & 6.297    & 75.33    & -0.07    & 0.08    \\\\\n",
       "\\end{tabular}\n"
      ],
      "text/markdown": [
       "\n",
       "PC and fiber direction | IGT p coef | IGT p SE | IGT q coef | IGT q SE | nback RT coef | nback RT SE | nback ACC coef | nback ACC SE | \n",
       "|---|---|---|---|\n",
       "| PC1(+)   | 17.51    | 22.26    | 0.8163   | 21.48    | -170     | 89.47    | 0.2 *    | 0.1      | \n",
       "| PC1(-)   | 37.22    | 21.19    | 17.52    | 21.05    | 51.33    | 91.65    | -0.1     | 0.1      | \n",
       "| PC2(+)   | 12.74    | 13.62    | 15.72    | 13.07    | -64.3    | 55.08    | 0.08     | 0.06     | \n",
       "| PC2(-)   | 8.16     | 18.58    | -35.67 * | 17.39    | 6.297    | 75.33    | -0.07    | 0.08     | \n",
       "\n",
       "\n"
      ],
      "text/plain": [
       "  PC and fiber direction IGT p coef IGT p SE IGT q coef IGT q SE nback RT coef\n",
       "1 PC1(+)                 17.51      22.26    0.8163     21.48    -170         \n",
       "2 PC1(-)                 37.22      21.19    17.52      21.05    51.33        \n",
       "3 PC2(+)                 12.74      13.62    15.72      13.07    -64.3        \n",
       "4 PC2(-)                 8.16       18.58    -35.67 *   17.39    6.297        \n",
       "  nback RT SE nback ACC coef nback ACC SE\n",
       "1 89.47       0.2 *          0.1         \n",
       "2 91.65       -0.1           0.1         \n",
       "3 55.08       0.08           0.06        \n",
       "4 75.33       -0.07          0.08        "
      ]
     },
     "metadata": {},
     "output_type": "display_data"
    }
   ],
   "source": [
    "nbackIGT"
   ]
  },
  {
   "cell_type": "code",
   "execution_count": null,
   "metadata": {},
   "outputs": [],
   "source": []
  }
 ],
 "metadata": {
  "kernelspec": {
   "display_name": "R",
   "language": "R",
   "name": "ir"
  },
  "language_info": {
   "codemirror_mode": "r",
   "file_extension": ".r",
   "mimetype": "text/x-r-source",
   "name": "R",
   "pygments_lexer": "r",
   "version": "3.4.4"
  }
 },
 "nbformat": 4,
 "nbformat_minor": 2
}
