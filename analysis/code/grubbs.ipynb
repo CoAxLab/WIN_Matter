{
 "cells": [
  {
   "cell_type": "code",
   "execution_count": 16,
   "metadata": {},
   "outputs": [],
   "source": [
    "from outliers import smirnov_grubbs as grubbs\n",
    "import pandas as pd\n",
    "PC1_great=pd.read_csv('/data/dataDB/WIN_Matter/analysis/data/PC1_greater_sigOnly_fibers.csv')\n",
    "PC1_less= pd.read_csv('/data/dataDB/WIN_Matter/analysis/data/PC1_lesser_sigOnly_fibers.csv')\n",
    "PC2_great= pd.read_csv('/data/dataDB/WIN_Matter/analysis/data/PC2_greater_sigOnly_fibers.csv')\n",
    "PC2_less= pd.read_csv('/data/dataDB/WIN_Matter/analysis/data/PC2_lesser_sigOnly_fibers.csv')"
   ]
  },
  {
   "cell_type": "code",
   "execution_count": 17,
   "metadata": {},
   "outputs": [],
   "source": [
    "def grubbhub(data, savename='filename'):\n",
    "    scrubdata=pd.DataFrame(data=data['sub_id'], columns=['sub_id'])\n",
    "    scrubdata['tx_code']=data['tx_code']\n",
    "    scrubdata['Age']=grubbs.test(data['Age'], alpha=0.05)\n",
    "    scrubdata['Sex']=grubbs.test(data['Sex'], alpha=0.05)\n",
    "    scrubdata['deltaFD']=grubbs.test(data['deltaFD'], alpha=0.05)\n",
    "    scrubdata['IGT_p_diff']=grubbs.test(data['IGT_p_diff'], alpha=0.05)\n",
    "    scrubdata['IGT_q_diff']=grubbs.test(data['IGT_q_diff'], alpha=0.05)\n",
    "    scrubdata['TS_RT_diff']=grubbs.test(data['TS_RT_diff'], alpha=0.05)\n",
    "    scrubdata['TS_ACC_diff']=grubbs.test(data['TS_ACC_diff'], alpha=0.05)\n",
    "    scrubdata['stroop_int_diff']=grubbs.test(data['stroop_int_diff'], alpha=0.05)\n",
    "    scrubdata['stroop_fac_diff']=grubbs.test(data['stroop_fac_diff'], alpha=0.05)\n",
    "    scrubdata['nback_RT_diff']=grubbs.test(data['nback_RT_diff'], alpha=0.05)\n",
    "    scrubdata['nback_ACC_diff']=grubbs.test(data['nback_ACC_diff'], alpha=0.05)\n",
    "    scrubdata['PC1']=grubbs.test(data['PC1'], alpha=0.05)\n",
    "    scrubdata['PC2']=grubbs.test(data['PC2'], alpha=0.05)\n",
    "    scrubdata['PC3']=grubbs.test(data['PC3'], alpha=0.05)\n",
    "    scrubdata['fiberMean']=grubbs.test(data['fiberMean'], alpha=0.05)\n",
    "    scrubdata.to_csv('/data/dataDB/WIN_Matter/analysis/data/'+savename+ '_grubbs.csv', index=False)\n"
   ]
  },
  {
   "cell_type": "code",
   "execution_count": 18,
   "metadata": {},
   "outputs": [
    {
     "name": "stderr",
     "output_type": "stream",
     "text": [
      "/home/toulmin/anaconda3/lib/python3.6/site-packages/outliers/smirnov_grubbs.py:153: FutureWarning: 'argmax' is deprecated, use 'idxmax' instead. The behavior of 'argmax'\n",
      "will be corrected to return the positional maximum in the future.\n",
      "Use 'series.values.argmax' to get the position of the maximum now.\n",
      "  index = relative_values.argmax()\n"
     ]
    }
   ],
   "source": [
    "grubbhub(PC1_great, 'PC1_greater_sigOnly_fibers')\n",
    "grubbhub(PC1_less, 'PC1_lesser_sigOnly_fibers')\n",
    "grubbhub(PC2_great, 'PC2_greater_sigOnly_fibers')\n",
    "grubbhub(PC2_less, 'PC2_lesser_sigOnly_fibers')\n"
   ]
  },
  {
   "cell_type": "code",
   "execution_count": null,
   "metadata": {},
   "outputs": [],
   "source": []
  }
 ],
 "metadata": {
  "kernelspec": {
   "display_name": "Python 3",
   "language": "python",
   "name": "python3"
  },
  "language_info": {
   "codemirror_mode": {
    "name": "ipython",
    "version": 3
   },
   "file_extension": ".py",
   "mimetype": "text/x-python",
   "name": "python",
   "nbconvert_exporter": "python",
   "pygments_lexer": "ipython3",
   "version": "3.6.7"
  }
 },
 "nbformat": 4,
 "nbformat_minor": 2
}
