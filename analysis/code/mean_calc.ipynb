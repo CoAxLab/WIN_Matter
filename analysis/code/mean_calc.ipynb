{
 "cells": [
  {
   "cell_type": "code",
   "execution_count": 1,
   "metadata": {},
   "outputs": [
    {
     "name": "stderr",
     "output_type": "stream",
     "text": [
      "Loading tidyverse: ggplot2\n",
      "Loading tidyverse: tibble\n",
      "Loading tidyverse: tidyr\n",
      "Loading tidyverse: readr\n",
      "Loading tidyverse: purrr\n",
      "Loading tidyverse: dplyr\n",
      "Conflicts with tidy packages ---------------------------------------------------\n",
      "filter(): dplyr, stats\n",
      "lag():    dplyr, stats\n",
      "\n",
      "Attaching package: ‘psych’\n",
      "\n",
      "The following objects are masked from ‘package:ggplot2’:\n",
      "\n",
      "    %+%, alpha\n",
      "\n",
      "Parsed with column specification:\n",
      "cols(\n",
      "  Fiber_name = col_character(),\n",
      "  PC1_greater = col_double(),\n",
      "  psig = col_integer()\n",
      ")\n",
      "Parsed with column specification:\n",
      "cols(\n",
      "  Fiber_name = col_character(),\n",
      "  PC1_lesser = col_double(),\n",
      "  psig = col_integer()\n",
      ")\n",
      "Parsed with column specification:\n",
      "cols(\n",
      "  Fiber_name = col_character(),\n",
      "  PC2_greater = col_double(),\n",
      "  psig = col_integer()\n",
      ")\n",
      "Parsed with column specification:\n",
      "cols(\n",
      "  Fiber_name = col_character(),\n",
      "  PC2_lesser = col_double(),\n",
      "  psig = col_integer()\n",
      ")\n"
     ]
    }
   ],
   "source": [
    "library('tidyverse')\n",
    "library('psych')\n",
    "pc1_greater_df<- read_csv('/data/dataDB/WIN_Matter/analysis/data/PC1_greater_coef.csv')\n",
    "pc1_lesser_df<- read_csv('/data/dataDB/WIN_Matter/analysis/data/PC1_lesser_coef.csv')\n",
    "\n",
    "pc2_greater_df<- read_csv('/data/dataDB/WIN_Matter/analysis/data/PC2_greater_coef.csv')\n",
    "pc2_lesser_df<- read_csv('/data/dataDB/WIN_Matter/analysis/data/PC2_lesser_coef.csv')"
   ]
  },
  {
   "cell_type": "code",
   "execution_count": 2,
   "metadata": {},
   "outputs": [
    {
     "data": {
      "text/html": [
       "0.0111119890313345"
      ],
      "text/latex": [
       "0.0111119890313345"
      ],
      "text/markdown": [
       "0.0111119890313345"
      ],
      "text/plain": [
       "[1] 0.01111199"
      ]
     },
     "metadata": {},
     "output_type": "display_data"
    },
    {
     "data": {
      "text/html": [
       "-0.00501343998482687"
      ],
      "text/latex": [
       "-0.00501343998482687"
      ],
      "text/markdown": [
       "-0.00501343998482687"
      ],
      "text/plain": [
       "[1] -0.00501344"
      ]
     },
     "metadata": {},
     "output_type": "display_data"
    },
    {
     "data": {
      "text/html": [
       "0.0544860016279603"
      ],
      "text/latex": [
       "0.0544860016279603"
      ],
      "text/markdown": [
       "0.0544860016279603"
      ],
      "text/plain": [
       "[1] 0.054486"
      ]
     },
     "metadata": {},
     "output_type": "display_data"
    },
    {
     "data": {
      "text/html": [
       "-0.0371002550151922"
      ],
      "text/latex": [
       "-0.0371002550151922"
      ],
      "text/markdown": [
       "-0.0371002550151922"
      ],
      "text/plain": [
       "[1] -0.03710026"
      ]
     },
     "metadata": {},
     "output_type": "display_data"
    }
   ],
   "source": [
    "mean(pc1_greater_df[['PC1_greater']])\n",
    "mean(pc1_lesser_df[['PC1_lesser']])\n",
    "\n",
    "mean(pc2_greater_df[['PC2_greater']])\n",
    "mean(pc2_lesser_df[['PC2_lesser']])"
   ]
  },
  {
   "cell_type": "code",
   "execution_count": null,
   "metadata": {},
   "outputs": [],
   "source": []
  }
 ],
 "metadata": {
  "kernelspec": {
   "display_name": "R",
   "language": "R",
   "name": "ir"
  },
  "language_info": {
   "codemirror_mode": "r",
   "file_extension": ".r",
   "mimetype": "text/x-r-source",
   "name": "R",
   "pygments_lexer": "r",
   "version": "3.4.4"
  }
 },
 "nbformat": 4,
 "nbformat_minor": 2
}
