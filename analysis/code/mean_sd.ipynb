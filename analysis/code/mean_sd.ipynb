{
 "cells": [
  {
   "cell_type": "code",
   "execution_count": 1,
   "metadata": {},
   "outputs": [
    {
     "name": "stderr",
     "output_type": "stream",
     "text": [
      "── Attaching packages ─────────────────────────────────────── tidyverse 1.2.1 ──\n",
      "✔ ggplot2 2.2.1     ✔ purrr   0.2.4\n",
      "✔ tibble  1.4.2     ✔ dplyr   0.7.4\n",
      "✔ tidyr   0.8.0     ✔ stringr 1.3.0\n",
      "✔ readr   1.1.1     ✔ forcats 0.3.0\n",
      "── Conflicts ────────────────────────────────────────── tidyverse_conflicts() ──\n",
      "✖ dplyr::filter() masks stats::filter()\n",
      "✖ dplyr::lag()    masks stats::lag()\n",
      "\n",
      "Attaching package: ‘magrittr’\n",
      "\n",
      "The following object is masked from ‘package:purrr’:\n",
      "\n",
      "    set_names\n",
      "\n",
      "The following object is masked from ‘package:tidyr’:\n",
      "\n",
      "    extract\n",
      "\n",
      "------------------------------------------------------------------------------\n",
      "You have loaded plyr after dplyr - this is likely to cause problems.\n",
      "If you need functions from both plyr and dplyr, please load plyr first, then dplyr:\n",
      "library(plyr); library(dplyr)\n",
      "------------------------------------------------------------------------------\n",
      "\n",
      "Attaching package: ‘plyr’\n",
      "\n",
      "The following objects are masked from ‘package:dplyr’:\n",
      "\n",
      "    arrange, count, desc, failwith, id, mutate, rename, summarise,\n",
      "    summarize\n",
      "\n",
      "The following object is masked from ‘package:purrr’:\n",
      "\n",
      "    compact\n",
      "\n"
     ]
    }
   ],
   "source": [
    "library(\"tidyverse\")\n",
    "library(\"knitr\")\n",
    "library('magrittr')\n",
    "library('plyr')\n",
    "df= read.csv('~/Google\\ Drive/WIN_Matter/analysis/data/health_demographics_subset.csv')\n",
    "df$Sex <- as.factor(df$Sex)\n",
    "\n",
    "\n",
    "difference_scores=data.frame(\n",
    "Group=df$Group,\n",
    "Age=df$Age,\n",
    "Sex=df$Sex,\n",
    "FD=df$FDdelta,\n",
    "Weight=df$wtkg_followup-df$wtkg_baseline,\n",
    "BMI=df$BMI_followup-df$BMI_baseline,\n",
    "waistIliac=df$waistIliac_followup-df$waistIliac_baseline,\n",
    "DXA_Tissue=df$DXA_Tissue_pcfat_followup-df$DXA_Tissue_pcfat_baseline,\n",
    "DXA_Region=df$DXA_Region_pcfat_followup-df$DXA_Region_pcfat_baseline,\n",
    "VO2LMin=df$VO2LMin_followup-df$VO2LMin_baseline,\n",
    "VO2mlkgmin=df$VO2mlkgmin_followup-df$VO2mlkgmin_baseline\n",
    ")\n",
    "\n",
    "final_df=difference_scores[complete.cases(difference_scores),]"
   ]
  },
  {
   "cell_type": "code",
   "execution_count": 3,
   "metadata": {},
   "outputs": [
    {
     "name": "stderr",
     "output_type": "stream",
     "text": [
      "Warning message in var(if (is.vector(x) || is.factor(x)) x else as.double(x), na.rm = na.rm):\n",
      "“Calling var(x) on a factor x is deprecated and will become an error.\n",
      "  Use something like 'all(duplicated(x)[-1L])' to test for a constant vector.”Warning message in var(if (is.vector(x) || is.factor(x)) x else as.double(x), na.rm = na.rm):\n",
      "“Calling var(x) on a factor x is deprecated and will become an error.\n",
      "  Use something like 'all(duplicated(x)[-1L])' to test for a constant vector.”"
     ]
    },
    {
     "data": {
      "text/html": [
       "<dl class=dl-horizontal>\n",
       "\t<dt>Group</dt>\n",
       "\t\t<dd>0.777742891246204</dd>\n",
       "\t<dt>Age</dt>\n",
       "\t\t<dd>8.88250533908655</dd>\n",
       "\t<dt>Sex</dt>\n",
       "\t\t<dd>0.391920851195689</dd>\n",
       "\t<dt>FD</dt>\n",
       "\t\t<dd>1.94815729852716</dd>\n",
       "\t<dt>Weight</dt>\n",
       "\t\t<dd>7.80931162045337</dd>\n",
       "\t<dt>BMI</dt>\n",
       "\t\t<dd>2.62741254912446</dd>\n",
       "\t<dt>waistIliac</dt>\n",
       "\t\t<dd>8.08553178064524</dd>\n",
       "\t<dt>DXA_Tissue</dt>\n",
       "\t\t<dd>0.0441750841380982</dd>\n",
       "\t<dt>DXA_Region</dt>\n",
       "\t\t<dd>0.0434679714797751</dd>\n",
       "\t<dt>VO2LMin</dt>\n",
       "\t\t<dd>0.222982738316897</dd>\n",
       "\t<dt>VO2mlkgmin</dt>\n",
       "\t\t<dd>2.9604074398657</dd>\n",
       "</dl>\n"
      ],
      "text/latex": [
       "\\begin{description*}\n",
       "\\item[Group] 0.777742891246204\n",
       "\\item[Age] 8.88250533908655\n",
       "\\item[Sex] 0.391920851195689\n",
       "\\item[FD] 1.94815729852716\n",
       "\\item[Weight] 7.80931162045337\n",
       "\\item[BMI] 2.62741254912446\n",
       "\\item[waistIliac] 8.08553178064524\n",
       "\\item[DXA\\textbackslash{}\\_Tissue] 0.0441750841380982\n",
       "\\item[DXA\\textbackslash{}\\_Region] 0.0434679714797751\n",
       "\\item[VO2LMin] 0.222982738316897\n",
       "\\item[VO2mlkgmin] 2.9604074398657\n",
       "\\end{description*}\n"
      ],
      "text/markdown": [
       "Group\n",
       ":   0.777742891246204Age\n",
       ":   8.88250533908655Sex\n",
       ":   0.391920851195689FD\n",
       ":   1.94815729852716Weight\n",
       ":   7.80931162045337BMI\n",
       ":   2.62741254912446waistIliac\n",
       ":   8.08553178064524DXA_Tissue\n",
       ":   0.0441750841380982DXA_Region\n",
       ":   0.0434679714797751VO2LMin\n",
       ":   0.222982738316897VO2mlkgmin\n",
       ":   2.9604074398657\n",
       "\n"
      ],
      "text/plain": [
       "     Group        Age        Sex         FD     Weight        BMI waistIliac \n",
       "0.77774289 8.88250534 0.39192085 1.94815730 7.80931162 2.62741255 8.08553178 \n",
       "DXA_Tissue DXA_Region    VO2LMin VO2mlkgmin \n",
       "0.04417508 0.04346797 0.22298274 2.96040744 "
      ]
     },
     "metadata": {},
     "output_type": "display_data"
    }
   ],
   "source": [
    "#sapply(final_df, mean, na.rm=TRUE)\n",
    "sapply(final_df, sd, na.rm=TRUE)"
   ]
  },
  {
   "cell_type": "code",
   "execution_count": 21,
   "metadata": {},
   "outputs": [
    {
     "data": {
      "text/html": [
       "<table>\n",
       "<thead><tr><th scope=col>n</th></tr></thead>\n",
       "<tbody>\n",
       "\t<tr><td>91</td></tr>\n",
       "</tbody>\n",
       "</table>\n"
      ],
      "text/latex": [
       "\\begin{tabular}{r|l}\n",
       " n\\\\\n",
       "\\hline\n",
       "\t 91\\\\\n",
       "\\end{tabular}\n"
      ],
      "text/markdown": [
       "\n",
       "n | \n",
       "|---|\n",
       "| 91 | \n",
       "\n",
       "\n"
      ],
      "text/plain": [
       "  n \n",
       "1 91"
      ]
     },
     "metadata": {},
     "output_type": "display_data"
    }
   ],
   "source": [
    "library('plyr')\n",
    "count(final_df)"
   ]
  },
  {
   "cell_type": "code",
   "execution_count": 42,
   "metadata": {},
   "outputs": [
    {
     "data": {
      "text/plain": [
       "\n",
       " 0  1 \n",
       "17 74 "
      ]
     },
     "metadata": {},
     "output_type": "display_data"
    }
   ],
   "source": [
    "table(final_df$Sex)"
   ]
  },
  {
   "cell_type": "code",
   "execution_count": 28,
   "metadata": {},
   "outputs": [
    {
     "name": "stderr",
     "output_type": "stream",
     "text": [
      "Warning message in mean.default(X[[i]], ...):\n",
      "“argument is not numeric or logical: returning NA”Warning message in mean.default(X[[i]], ...):\n",
      "“argument is not numeric or logical: returning NA”Warning message in mean.default(X[[i]], ...):\n",
      "“argument is not numeric or logical: returning NA”"
     ]
    },
    {
     "data": {
      "text/html": [
       "<table>\n",
       "<thead><tr><th scope=col>Group.1</th><th scope=col>Age</th><th scope=col>Sex</th><th scope=col>FD</th><th scope=col>Weight</th><th scope=col>BMI</th><th scope=col>waistIliac</th><th scope=col>DXA_Tissue</th><th scope=col>DXA_Region</th><th scope=col>VO2LMin</th><th scope=col>VO2mlkgmin</th></tr></thead>\n",
       "<tbody>\n",
       "\t<tr><td>DIET        </td><td>43.02632    </td><td>NA          </td><td> 0.16808155 </td><td> -9.947368  </td><td>-3.500000   </td><td>-8.210526   </td><td>-0.05185789 </td><td>-0.05141053 </td><td>-0.114605263</td><td>1.628947    </td></tr>\n",
       "\t<tr><td>HIGH-PA     </td><td>44.75758    </td><td>NA          </td><td>-0.03697742 </td><td> -9.666667  </td><td>-3.393939   </td><td>-9.969697   </td><td>-0.05593333 </td><td>-0.05541212 </td><td>-0.009787879</td><td>2.866667    </td></tr>\n",
       "\t<tr><td>MOD-PA      </td><td>45.10000    </td><td>NA          </td><td>-0.81113105 </td><td>-11.750000  </td><td>-4.250000   </td><td>-9.750000   </td><td>-0.06072000 </td><td>-0.06024500 </td><td>-0.106700000</td><td>2.140000    </td></tr>\n",
       "</tbody>\n",
       "</table>\n"
      ],
      "text/latex": [
       "\\begin{tabular}{r|lllllllllll}\n",
       " Group.1 & Age & Sex & FD & Weight & BMI & waistIliac & DXA\\_Tissue & DXA\\_Region & VO2LMin & VO2mlkgmin\\\\\n",
       "\\hline\n",
       "\t DIET         & 43.02632     & NA           &  0.16808155  &  -9.947368   & -3.500000    & -8.210526    & -0.05185789  & -0.05141053  & -0.114605263 & 1.628947    \\\\\n",
       "\t HIGH-PA      & 44.75758     & NA           & -0.03697742  &  -9.666667   & -3.393939    & -9.969697    & -0.05593333  & -0.05541212  & -0.009787879 & 2.866667    \\\\\n",
       "\t MOD-PA       & 45.10000     & NA           & -0.81113105  & -11.750000   & -4.250000    & -9.750000    & -0.06072000  & -0.06024500  & -0.106700000 & 2.140000    \\\\\n",
       "\\end{tabular}\n"
      ],
      "text/markdown": [
       "\n",
       "Group.1 | Age | Sex | FD | Weight | BMI | waistIliac | DXA_Tissue | DXA_Region | VO2LMin | VO2mlkgmin | \n",
       "|---|---|---|\n",
       "| DIET         | 43.02632     | NA           |  0.16808155  |  -9.947368   | -3.500000    | -8.210526    | -0.05185789  | -0.05141053  | -0.114605263 | 1.628947     | \n",
       "| HIGH-PA      | 44.75758     | NA           | -0.03697742  |  -9.666667   | -3.393939    | -9.969697    | -0.05593333  | -0.05541212  | -0.009787879 | 2.866667     | \n",
       "| MOD-PA       | 45.10000     | NA           | -0.81113105  | -11.750000   | -4.250000    | -9.750000    | -0.06072000  | -0.06024500  | -0.106700000 | 2.140000     | \n",
       "\n",
       "\n"
      ],
      "text/plain": [
       "  Group.1 Age      Sex FD          Weight     BMI       waistIliac DXA_Tissue \n",
       "1 DIET    43.02632 NA   0.16808155  -9.947368 -3.500000 -8.210526  -0.05185789\n",
       "2 HIGH-PA 44.75758 NA  -0.03697742  -9.666667 -3.393939 -9.969697  -0.05593333\n",
       "3 MOD-PA  45.10000 NA  -0.81113105 -11.750000 -4.250000 -9.750000  -0.06072000\n",
       "  DXA_Region  VO2LMin      VO2mlkgmin\n",
       "1 -0.05141053 -0.114605263 1.628947  \n",
       "2 -0.05541212 -0.009787879 2.866667  \n",
       "3 -0.06024500 -0.106700000 2.140000  "
      ]
     },
     "metadata": {},
     "output_type": "display_data"
    }
   ],
   "source": [
    "aggregate(final_df[, 2:11], list(final_df$Group), mean)"
   ]
  },
  {
   "cell_type": "code",
   "execution_count": 29,
   "metadata": {},
   "outputs": [
    {
     "name": "stderr",
     "output_type": "stream",
     "text": [
      "Warning message in var(if (is.vector(x) || is.factor(x)) x else as.double(x), na.rm = na.rm):\n",
      "“Calling var(x) on a factor x is deprecated and will become an error.\n",
      "  Use something like 'all(duplicated(x)[-1L])' to test for a constant vector.”Warning message in var(if (is.vector(x) || is.factor(x)) x else as.double(x), na.rm = na.rm):\n",
      "“Calling var(x) on a factor x is deprecated and will become an error.\n",
      "  Use something like 'all(duplicated(x)[-1L])' to test for a constant vector.”Warning message in var(if (is.vector(x) || is.factor(x)) x else as.double(x), na.rm = na.rm):\n",
      "“Calling var(x) on a factor x is deprecated and will become an error.\n",
      "  Use something like 'all(duplicated(x)[-1L])' to test for a constant vector.”"
     ]
    },
    {
     "data": {
      "text/html": [
       "<table>\n",
       "<thead><tr><th scope=col>Group.1</th><th scope=col>Age</th><th scope=col>Sex</th><th scope=col>FD</th><th scope=col>Weight</th><th scope=col>BMI</th><th scope=col>waistIliac</th><th scope=col>DXA_Tissue</th><th scope=col>DXA_Region</th><th scope=col>VO2LMin</th><th scope=col>VO2mlkgmin</th></tr></thead>\n",
       "<tbody>\n",
       "\t<tr><td>DIET      </td><td>9.213641  </td><td>0.3695370 </td><td>2.150669  </td><td>8.800944  </td><td>2.816457  </td><td>8.786224  </td><td>0.04569810</td><td>0.04505105</td><td>0.2187627 </td><td>2.845376  </td></tr>\n",
       "\t<tr><td>HIGH-PA   </td><td>8.789306  </td><td>0.3916747 </td><td>1.818981  </td><td>7.091662  </td><td>2.474108  </td><td>7.551841  </td><td>0.04533552</td><td>0.04457832</td><td>0.2245413 </td><td>2.961489  </td></tr>\n",
       "\t<tr><td>MOD-PA    </td><td>8.613942  </td><td>0.4442617 </td><td>1.648400  </td><td>7.085010  </td><td>2.531382  </td><td>7.745117  </td><td>0.04074366</td><td>0.03994969</td><td>0.2140787 </td><td>3.090120  </td></tr>\n",
       "</tbody>\n",
       "</table>\n"
      ],
      "text/latex": [
       "\\begin{tabular}{r|lllllllllll}\n",
       " Group.1 & Age & Sex & FD & Weight & BMI & waistIliac & DXA\\_Tissue & DXA\\_Region & VO2LMin & VO2mlkgmin\\\\\n",
       "\\hline\n",
       "\t DIET       & 9.213641   & 0.3695370  & 2.150669   & 8.800944   & 2.816457   & 8.786224   & 0.04569810 & 0.04505105 & 0.2187627  & 2.845376  \\\\\n",
       "\t HIGH-PA    & 8.789306   & 0.3916747  & 1.818981   & 7.091662   & 2.474108   & 7.551841   & 0.04533552 & 0.04457832 & 0.2245413  & 2.961489  \\\\\n",
       "\t MOD-PA     & 8.613942   & 0.4442617  & 1.648400   & 7.085010   & 2.531382   & 7.745117   & 0.04074366 & 0.03994969 & 0.2140787  & 3.090120  \\\\\n",
       "\\end{tabular}\n"
      ],
      "text/markdown": [
       "\n",
       "Group.1 | Age | Sex | FD | Weight | BMI | waistIliac | DXA_Tissue | DXA_Region | VO2LMin | VO2mlkgmin | \n",
       "|---|---|---|\n",
       "| DIET       | 9.213641   | 0.3695370  | 2.150669   | 8.800944   | 2.816457   | 8.786224   | 0.04569810 | 0.04505105 | 0.2187627  | 2.845376   | \n",
       "| HIGH-PA    | 8.789306   | 0.3916747  | 1.818981   | 7.091662   | 2.474108   | 7.551841   | 0.04533552 | 0.04457832 | 0.2245413  | 2.961489   | \n",
       "| MOD-PA     | 8.613942   | 0.4442617  | 1.648400   | 7.085010   | 2.531382   | 7.745117   | 0.04074366 | 0.03994969 | 0.2140787  | 3.090120   | \n",
       "\n",
       "\n"
      ],
      "text/plain": [
       "  Group.1 Age      Sex       FD       Weight   BMI      waistIliac DXA_Tissue\n",
       "1 DIET    9.213641 0.3695370 2.150669 8.800944 2.816457 8.786224   0.04569810\n",
       "2 HIGH-PA 8.789306 0.3916747 1.818981 7.091662 2.474108 7.551841   0.04533552\n",
       "3 MOD-PA  8.613942 0.4442617 1.648400 7.085010 2.531382 7.745117   0.04074366\n",
       "  DXA_Region VO2LMin   VO2mlkgmin\n",
       "1 0.04505105 0.2187627 2.845376  \n",
       "2 0.04457832 0.2245413 2.961489  \n",
       "3 0.03994969 0.2140787 3.090120  "
      ]
     },
     "metadata": {},
     "output_type": "display_data"
    }
   ],
   "source": [
    "aggregate(final_df[, 2:11], list(final_df$Group), sd)"
   ]
  },
  {
   "cell_type": "code",
   "execution_count": 34,
   "metadata": {},
   "outputs": [
    {
     "ename": "ERROR",
     "evalue": "Error in `[.data.frame`(final_df, , final_df$Group == \"DIET\" & final_df$Sex == : undefined columns selected\n",
     "output_type": "error",
     "traceback": [
      "Error in `[.data.frame`(final_df, , final_df$Group == \"DIET\" & final_df$Sex == : undefined columns selected\nTraceback:\n",
      "1. nrow(final_df[, final_df$Group == \"DIET\" & final_df$Sex == 0])",
      "2. final_df[, final_df$Group == \"DIET\" & final_df$Sex == 0]",
      "3. `[.data.frame`(final_df, , final_df$Group == \"DIET\" & final_df$Sex == \n .     0)",
      "4. stop(\"undefined columns selected\")"
     ]
    }
   ],
   "source": [
    "nrow(final_df[,final_df$Group=='DIET' & final_df$Sex==0])"
   ]
  },
  {
   "cell_type": "code",
   "execution_count": 43,
   "metadata": {},
   "outputs": [
    {
     "data": {
      "text/plain": [
       "\n",
       " 0  1 \n",
       " 6 32 "
      ]
     },
     "metadata": {},
     "output_type": "display_data"
    }
   ],
   "source": [
    "diet_df=filter(final_df, Group=='DIET')\n",
    "table(diet_df$Sex)"
   ]
  },
  {
   "cell_type": "code",
   "execution_count": 44,
   "metadata": {},
   "outputs": [
    {
     "data": {
      "text/plain": [
       "\n",
       " 0  1 \n",
       " 5 15 "
      ]
     },
     "metadata": {},
     "output_type": "display_data"
    }
   ],
   "source": [
    "mod_df=filter(final_df, Group=='MOD-PA')\n",
    "table(mod_df$Sex)"
   ]
  },
  {
   "cell_type": "code",
   "execution_count": 45,
   "metadata": {},
   "outputs": [
    {
     "data": {
      "text/plain": [
       "\n",
       " 0  1 \n",
       " 6 27 "
      ]
     },
     "metadata": {},
     "output_type": "display_data"
    }
   ],
   "source": [
    "high_df=filter(final_df, Group=='HIGH-PA')\n",
    "table(high_df$Sex)"
   ]
  },
  {
   "cell_type": "code",
   "execution_count": null,
   "metadata": {},
   "outputs": [],
   "source": []
  }
 ],
 "metadata": {
  "kernelspec": {
   "display_name": "R",
   "language": "R",
   "name": "ir"
  },
  "language_info": {
   "codemirror_mode": "r",
   "file_extension": ".r",
   "mimetype": "text/x-r-source",
   "name": "R",
   "pygments_lexer": "r",
   "version": "3.4.4"
  }
 },
 "nbformat": 4,
 "nbformat_minor": 2
}
