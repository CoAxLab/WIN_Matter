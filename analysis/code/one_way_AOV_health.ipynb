{
 "cells": [
  {
   "cell_type": "code",
   "execution_count": 10,
   "metadata": {},
   "outputs": [
    {
     "name": "stderr",
     "output_type": "stream",
     "text": [
      "Parsed with column specification:\n",
      "cols(\n",
      "  Lab_ID = col_integer(),\n",
      "  Group = col_character(),\n",
      "  Sex = col_integer(),\n",
      "  Age = col_integer(),\n",
      "  wtkg_baseline = col_integer(),\n",
      "  BMI_baseline = col_integer(),\n",
      "  waistIliac_baseline = col_integer(),\n",
      "  DXA_Tissue_pcfat_baseline = col_double(),\n",
      "  DXA_Region_pcfat_baseline = col_double(),\n",
      "  VO2LMin_baseline = col_double(),\n",
      "  VO2mlkgmin_baseline = col_double(),\n",
      "  wtkg_followup = col_integer(),\n",
      "  BMI_followup = col_integer(),\n",
      "  waistIliac_followup = col_integer(),\n",
      "  DXA_Tissue_pcfat_followup = col_double(),\n",
      "  DXA_Region_pcfat_followup = col_double(),\n",
      "  VO2LMin_followup = col_double(),\n",
      "  VO2mlkgmin_followup = col_double(),\n",
      "  FDdelta = col_double()\n",
      ")\n"
     ]
    }
   ],
   "source": [
    "library(\"tidyverse\")\n",
    "library(\"knitr\")\n",
    "library(\"pander\")\n",
    "#library(\"nlme\")\n",
    "#library(\"multcomp\")\n",
    "\n",
    "df <- read_csv('~/Google Drive/WIN_Matter/analysis/data/health_demographics_subset.csv')\n",
    "\n",
    "df <- mutate(data, Group=as.factor(Group), \n",
    "               Lab_ID=as.factor(Lab_ID))\n",
    "\n",
    "\n",
    "difference_scores=data.frame(\n",
    "Group=df$Group,\n",
    "Lab_ID=df$Lab_ID,\n",
    "Weight=df$wtkg_followup-df$wtkg_baseline,\n",
    "BMI=df$BMI_followup-df$BMI_baseline,\n",
    "w2H=df$waistIliac_followup-df$waistIliac_baseline,\n",
    "DXA_Tissue=df$DXA_Tissue_pcfat_followup-df$DXA_Tissue_pcfat_baseline,\n",
    "DXA_Region=df$DXA_Region_pcfat_followup-df$DXA_Region_pcfat_baseline,\n",
    "VO2LMin=df$VO2LMin_followup-df$VO2LMin_baseline,\n",
    "VO2mlkgmin=df$VO2mlkgmin_followup-df$VO2mlkgmin_baseline\n",
    ")\n",
    "\n",
    "final_df=difference_scores[complete.cases(difference_scores),]"
   ]
  },
  {
   "cell_type": "code",
   "execution_count": 11,
   "metadata": {},
   "outputs": [
    {
     "data": {
      "text/html": [
       "<table>\n",
       "<thead><tr><th scope=col>Group</th><th scope=col>Lab_ID</th><th scope=col>Weight</th><th scope=col>BMI</th><th scope=col>w2H</th><th scope=col>DXA_Tissue</th><th scope=col>DXA_Region</th><th scope=col>VO2LMin</th><th scope=col>VO2mlkgmin</th></tr></thead>\n",
       "<tbody>\n",
       "\t<tr><td>DIET   </td><td>106    </td><td> -9    </td><td>-4     </td><td>-10    </td><td>-0.0774</td><td>-0.0759</td><td> 0.024 </td><td> 3.5   </td></tr>\n",
       "\t<tr><td>MOD-PA </td><td>129    </td><td> -8    </td><td>-3     </td><td>-12    </td><td>-0.0621</td><td>-0.0614</td><td> 0.030 </td><td> 3.2   </td></tr>\n",
       "\t<tr><td>DIET   </td><td>130    </td><td> -6    </td><td>-2     </td><td> -6    </td><td>-0.0265</td><td>-0.0266</td><td> 0.246 </td><td> 3.8   </td></tr>\n",
       "\t<tr><td>HIGH-PA</td><td>140    </td><td>-12    </td><td>-5     </td><td>-14    </td><td>-0.0982</td><td>-0.0970</td><td> 0.171 </td><td> 7.7   </td></tr>\n",
       "\t<tr><td>DIET   </td><td>142    </td><td>  0    </td><td> 0     </td><td>  1    </td><td>-0.0129</td><td>-0.0126</td><td> 0.031 </td><td> 0.4   </td></tr>\n",
       "\t<tr><td>HIGH-PA</td><td>143    </td><td> -8    </td><td>-3     </td><td>-12    </td><td>-0.0422</td><td>-0.0416</td><td>-0.287 </td><td>-1.0   </td></tr>\n",
       "</tbody>\n",
       "</table>\n"
      ],
      "text/latex": [
       "\\begin{tabular}{r|lllllllll}\n",
       " Group & Lab\\_ID & Weight & BMI & w2H & DXA\\_Tissue & DXA\\_Region & VO2LMin & VO2mlkgmin\\\\\n",
       "\\hline\n",
       "\t DIET    & 106     &  -9     & -4      & -10     & -0.0774 & -0.0759 &  0.024  &  3.5   \\\\\n",
       "\t MOD-PA  & 129     &  -8     & -3      & -12     & -0.0621 & -0.0614 &  0.030  &  3.2   \\\\\n",
       "\t DIET    & 130     &  -6     & -2      &  -6     & -0.0265 & -0.0266 &  0.246  &  3.8   \\\\\n",
       "\t HIGH-PA & 140     & -12     & -5      & -14     & -0.0982 & -0.0970 &  0.171  &  7.7   \\\\\n",
       "\t DIET    & 142     &   0     &  0      &   1     & -0.0129 & -0.0126 &  0.031  &  0.4   \\\\\n",
       "\t HIGH-PA & 143     &  -8     & -3      & -12     & -0.0422 & -0.0416 & -0.287  & -1.0   \\\\\n",
       "\\end{tabular}\n"
      ],
      "text/markdown": [
       "\n",
       "Group | Lab_ID | Weight | BMI | w2H | DXA_Tissue | DXA_Region | VO2LMin | VO2mlkgmin | \n",
       "|---|---|---|---|---|---|\n",
       "| DIET    | 106     |  -9     | -4      | -10     | -0.0774 | -0.0759 |  0.024  |  3.5    | \n",
       "| MOD-PA  | 129     |  -8     | -3      | -12     | -0.0621 | -0.0614 |  0.030  |  3.2    | \n",
       "| DIET    | 130     |  -6     | -2      |  -6     | -0.0265 | -0.0266 |  0.246  |  3.8    | \n",
       "| HIGH-PA | 140     | -12     | -5      | -14     | -0.0982 | -0.0970 |  0.171  |  7.7    | \n",
       "| DIET    | 142     |   0     |  0      |   1     | -0.0129 | -0.0126 |  0.031  |  0.4    | \n",
       "| HIGH-PA | 143     |  -8     | -3      | -12     | -0.0422 | -0.0416 | -0.287  | -1.0    | \n",
       "\n",
       "\n"
      ],
      "text/plain": [
       "  Group   Lab_ID Weight BMI w2H DXA_Tissue DXA_Region VO2LMin VO2mlkgmin\n",
       "1 DIET    106     -9    -4  -10 -0.0774    -0.0759     0.024   3.5      \n",
       "2 MOD-PA  129     -8    -3  -12 -0.0621    -0.0614     0.030   3.2      \n",
       "3 DIET    130     -6    -2   -6 -0.0265    -0.0266     0.246   3.8      \n",
       "4 HIGH-PA 140    -12    -5  -14 -0.0982    -0.0970     0.171   7.7      \n",
       "5 DIET    142      0     0    1 -0.0129    -0.0126     0.031   0.4      \n",
       "6 HIGH-PA 143     -8    -3  -12 -0.0422    -0.0416    -0.287  -1.0      "
      ]
     },
     "metadata": {},
     "output_type": "display_data"
    }
   ],
   "source": [
    "head(final_df)"
   ]
  },
  {
   "cell_type": "code",
   "execution_count": 12,
   "metadata": {},
   "outputs": [
    {
     "data": {
      "text/plain": [
       "\n",
       "Error: factor(Lab_ID)\n",
       "          Df Sum Sq Mean Sq F value Pr(>F)\n",
       "Group      2  0.220 0.11002   2.275  0.109\n",
       "Residuals 88  4.255 0.04835               "
      ]
     },
     "metadata": {},
     "output_type": "display_data"
    }
   ],
   "source": [
    "#Repeated measures anova VO2\n",
    "anova_results <- aov(VO2LMin ~ Group + Error(factor(Lab_ID)),\n",
    "                     data = final_df)\n",
    "\n",
    "summary(anova_results)"
   ]
  },
  {
   "cell_type": "code",
   "execution_count": 15,
   "metadata": {},
   "outputs": [
    {
     "data": {
      "text/plain": [
       "\n",
       "Error: factor(Lab_ID)\n",
       "          Df Sum Sq Mean Sq F value Pr(>F)\n",
       "Group      2   27.1  13.561   1.567  0.214\n",
       "Residuals 88  761.6   8.655               "
      ]
     },
     "metadata": {},
     "output_type": "display_data"
    }
   ],
   "source": [
    "#Repeated measures anova VO2\n",
    "anova_results <- aov(VO2mlkgmin ~ Group + Error(factor(Lab_ID)),\n",
    "                     data = final_df)\n",
    "\n",
    "summary(anova_results)"
   ]
  },
  {
   "cell_type": "code",
   "execution_count": 14,
   "metadata": {},
   "outputs": [
    {
     "data": {
      "text/plain": [
       "\n",
       "Error: factor(Lab_ID)\n",
       "          Df  Sum Sq   Mean Sq F value Pr(>F)\n",
       "Group      2 0.00105 0.0005255   0.265  0.768\n",
       "Residuals 88 0.17458 0.0019838               "
      ]
     },
     "metadata": {},
     "output_type": "display_data"
    }
   ],
   "source": [
    "#Repeated measures anova DXA tissue\n",
    "anova_results <- aov(DXA_Tissue ~ Group + Error(factor(Lab_ID)),\n",
    "                     data = final_df)\n",
    "\n",
    "summary(anova_results)"
   ]
  },
  {
   "cell_type": "code",
   "execution_count": 16,
   "metadata": {},
   "outputs": [
    {
     "data": {
      "text/plain": [
       "\n",
       "Error: factor(Lab_ID)\n",
       "          Df  Sum Sq   Mean Sq F value Pr(>F)\n",
       "Group      2 0.00104 0.0005209   0.271  0.763\n",
       "Residuals 88 0.16901 0.0019206               "
      ]
     },
     "metadata": {},
     "output_type": "display_data"
    }
   ],
   "source": [
    "#Repeated measures anova DXA tissue\n",
    "anova_results <- aov(DXA_Region ~ Group + Error(factor(Lab_ID)),\n",
    "                     data = final_df)\n",
    "\n",
    "summary(anova_results)"
   ]
  },
  {
   "cell_type": "code",
   "execution_count": 17,
   "metadata": {},
   "outputs": [
    {
     "data": {
      "text/plain": [
       "\n",
       "Error: factor(Lab_ID)\n",
       "          Df Sum Sq Mean Sq F value Pr(>F)\n",
       "Group      2     63   31.39   0.475  0.624\n",
       "Residuals 88   5821   66.15               "
      ]
     },
     "metadata": {},
     "output_type": "display_data"
    }
   ],
   "source": [
    "#Repeated measures anova DXA tissue\n",
    "anova_results <- aov(w2H ~ Group + Error(factor(Lab_ID)),\n",
    "                     data = final_df)\n",
    "\n",
    "summary(anova_results)"
   ]
  },
  {
   "cell_type": "code",
   "execution_count": 18,
   "metadata": {},
   "outputs": [
    {
     "data": {
      "text/plain": [
       "\n",
       "Error: factor(Lab_ID)\n",
       "          Df Sum Sq Mean Sq F value Pr(>F)\n",
       "Group      2   10.2   5.084   0.732  0.484\n",
       "Residuals 88  611.1   6.945               "
      ]
     },
     "metadata": {},
     "output_type": "display_data"
    }
   ],
   "source": [
    "#Repeated measures anova DXA tissue\n",
    "anova_results <- aov(BMI ~ Group + Error(factor(Lab_ID)),\n",
    "                     data = final_df)\n",
    "\n",
    "summary(anova_results)"
   ]
  },
  {
   "cell_type": "code",
   "execution_count": 19,
   "metadata": {},
   "outputs": [
    {
     "data": {
      "text/plain": [
       "\n",
       "Error: factor(Lab_ID)\n",
       "          Df Sum Sq Mean Sq F value Pr(>F)\n",
       "Group      2     60   29.85   0.484  0.618\n",
       "Residuals 88   5429   61.69               "
      ]
     },
     "metadata": {},
     "output_type": "display_data"
    }
   ],
   "source": [
    "#Repeated measures anova DXA tissue\n",
    "anova_results <- aov(Weight ~ Group + Error(factor(Lab_ID)),\n",
    "                     data = final_df)\n",
    "\n",
    "summary(anova_results)"
   ]
  },
  {
   "cell_type": "code",
   "execution_count": null,
   "metadata": {},
   "outputs": [],
   "source": []
  }
 ],
 "metadata": {
  "kernelspec": {
   "display_name": "R",
   "language": "R",
   "name": "ir"
  },
  "language_info": {
   "codemirror_mode": "r",
   "file_extension": ".r",
   "mimetype": "text/x-r-source",
   "name": "R",
   "pygments_lexer": "r",
   "version": "3.4.4"
  }
 },
 "nbformat": 4,
 "nbformat_minor": 2
}
