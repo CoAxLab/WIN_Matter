{
 "cells": [
  {
   "cell_type": "code",
   "execution_count": 5,
   "metadata": {},
   "outputs": [],
   "source": [
    "def get_sigFibers(psig_list, fibers, cogdf,outputdf):\n",
    "    import pandas as pd\n",
    "    import numpy as np\n",
    "    psig_listdf=pd.read_csv('/data/dataDB/WIN_Matters/analysis/data/'+psig_list)\n",
    "    df=pd.read_csv('/data/dataDB/WIN_Matters/analysis/data/'+fibers, index_col=0)\n",
    "    cogFactors=pd.read_csv('/data/dataDB/WIN_Matters/analysis/data/'+cogdf, index_col=0)\n",
    "    #make a list of only fibers that were significantly associated with PC variable and were in the directionality that matched with dsi studio output\n",
    "    L=list(psig_listdf['Fiber_name'])\n",
    "    #use the significant fibers for cogfactors analysis\n",
    "    sig_only=df[L]\n",
    "    #get mean fiber measure\n",
    "    sig_only['fiberMean']=sig_only.mean(axis=1)\n",
    "    #now merge with existing cogfactors db\n",
    "    df_final=pd.merge(sig_only, cogFactors, on='sub_id')\n",
    "    df_final.to_csv('/data/dataDB/WIN_Matters/analysis/data/'+outputdf)"
   ]
  },
  {
   "cell_type": "code",
   "execution_count": 6,
   "metadata": {},
   "outputs": [
    {
     "name": "stderr",
     "output_type": "stream",
     "text": [
      "/home/toulmin/anaconda3/lib/python3.6/site-packages/ipykernel_launcher.py:12: SettingWithCopyWarning: \n",
      "A value is trying to be set on a copy of a slice from a DataFrame.\n",
      "Try using .loc[row_indexer,col_indexer] = value instead\n",
      "\n",
      "See the caveats in the documentation: http://pandas.pydata.org/pandas-docs/stable/indexing.html#indexing-view-versus-copy\n",
      "  if sys.path[0] == '':\n"
     ]
    }
   ],
   "source": [
    "#PC1 greater\n",
    "get_sigFibers('PC1_great_sigOnly_fibers_list.csv','PC1_greater_fibers_wmask.csv',\n",
    "              'cogFactors01232019.csv','PC1_greater_sigOnly_fibers.csv')\n",
    "#PC1 lesser\n",
    "get_sigFibers('PC1_less_sigOnly_fibers_list.csv','PC1_lesser_fibers_wmask.csv',\n",
    "              'cogFactors01232019.csv','PC1_lesser_sigOnly_fibers.csv')\n",
    "\n",
    "#PC2 greater\n",
    "get_sigFibers('PC2_great_sigOnly_fibers_list.csv','PC2_greater_fibers_wmask.csv',\n",
    "              'cogFactors01232019.csv','PC2_greater_sigOnly_fibers.csv')\n",
    "#PC2 lesser\n",
    "get_sigFibers('PC2_less_sigOnly_fibers_list.csv','PC2_lesser_fibers_wmask.csv',\n",
    "              'cogFactors01232019.csv','PC2_lesser_sigOnly_fibers.csv')"
   ]
  },
  {
   "cell_type": "code",
   "execution_count": null,
   "metadata": {},
   "outputs": [],
   "source": []
  }
 ],
 "metadata": {
  "kernelspec": {
   "display_name": "Python 3",
   "language": "python",
   "name": "python3"
  },
  "language_info": {
   "codemirror_mode": {
    "name": "ipython",
    "version": 3
   },
   "file_extension": ".py",
   "mimetype": "text/x-python",
   "name": "python",
   "nbconvert_exporter": "python",
   "pygments_lexer": "ipython3",
   "version": "3.7.1"
  }
 },
 "nbformat": 4,
 "nbformat_minor": 2
}
