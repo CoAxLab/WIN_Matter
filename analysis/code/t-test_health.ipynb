{
 "cells": [
  {
   "cell_type": "code",
   "execution_count": 24,
   "metadata": {
    "scrolled": true
   },
   "outputs": [],
   "source": [
    "library(\"tidyverse\")\n",
    "library(\"knitr\")\n",
    "library('magrittr')\n",
    "library('devtools')\n",
    "df= read.csv('~/Google\\ Drive/WIN_Matter/analysis/data/health_demographics_subset.csv')\n",
    "#df= read.csv('health_demographics_subset.csv')\n",
    "df$Sex <- as.factor(df$Sex)\n",
    "\n",
    "#post-pre measures only from completed subjects\n",
    "\n",
    "\n",
    "difference_scores=data.frame(\n",
    "Group=df$Group,\n",
    "Age=df$Age,\n",
    "Sex=df$Sex,\n",
    "FD=df$FDdelta,\n",
    "Weight=df$wtkg_followup-df$wtkg_baseline,\n",
    "BMI=df$BMI_followup-df$BMI_baseline,\n",
    "waistIliac=df$waistIliac_followup-df$waistIliac_baseline,\n",
    "DXA_Tissue=df$DXA_Tissue_pcfat_followup-df$DXA_Tissue_pcfat_baseline,\n",
    "DXA_Region=df$DXA_Region_pcfat_followup-df$DXA_Region_pcfat_baseline,\n",
    "VO2LMin=df$VO2LMin_followup-df$VO2LMin_baseline,\n",
    "VO2mlkgmin=df$VO2mlkgmin_followup-df$VO2mlkgmin_baseline\n",
    ")\n",
    "\n",
    "final_df=difference_scores[complete.cases(difference_scores),]\n",
    "\n",
    "\n",
    "diet_df=subset(final_df, Group=='DIET')\n",
    "mod_pa_df=subset(final_df, Group=='MOD-PA')\n",
    "high_pa_df=subset(final_df, Group=='HIGH-PA')"
   ]
  },
  {
   "cell_type": "code",
   "execution_count": 25,
   "metadata": {},
   "outputs": [
    {
     "data": {
      "text/html": [
       "<table>\n",
       "<thead><tr><th scope=col>Group</th><th scope=col>Age</th><th scope=col>Sex</th><th scope=col>FD</th><th scope=col>Weight</th><th scope=col>BMI</th><th scope=col>waistIliac</th><th scope=col>DXA_Tissue</th><th scope=col>DXA_Region</th><th scope=col>VO2LMin</th><th scope=col>VO2mlkgmin</th></tr></thead>\n",
       "<tbody>\n",
       "\t<tr><td>DIET     </td><td>46       </td><td>1        </td><td> 1.757256</td><td> -9      </td><td>-4       </td><td>-10      </td><td>-0.0774  </td><td>-0.0759  </td><td> 0.024   </td><td> 3.5     </td></tr>\n",
       "\t<tr><td>MOD-PA   </td><td>52       </td><td>1        </td><td>-3.563212</td><td> -8      </td><td>-3       </td><td>-12      </td><td>-0.0621  </td><td>-0.0614  </td><td> 0.030   </td><td> 3.2     </td></tr>\n",
       "\t<tr><td>DIET     </td><td>51       </td><td>1        </td><td> 0.489796</td><td> -6      </td><td>-2       </td><td> -6      </td><td>-0.0265  </td><td>-0.0266  </td><td> 0.246   </td><td> 3.8     </td></tr>\n",
       "\t<tr><td>HIGH-PA  </td><td>53       </td><td>1        </td><td> 1.279023</td><td>-12      </td><td>-5       </td><td>-14      </td><td>-0.0982  </td><td>-0.0970  </td><td> 0.171   </td><td> 7.7     </td></tr>\n",
       "\t<tr><td>DIET     </td><td>47       </td><td>1        </td><td> 0.377673</td><td>  0      </td><td> 0       </td><td>  1      </td><td>-0.0129  </td><td>-0.0126  </td><td> 0.031   </td><td> 0.4     </td></tr>\n",
       "\t<tr><td>HIGH-PA  </td><td>52       </td><td>1        </td><td> 0.063176</td><td> -8      </td><td>-3       </td><td>-12      </td><td>-0.0422  </td><td>-0.0416  </td><td>-0.287   </td><td>-1.0     </td></tr>\n",
       "</tbody>\n",
       "</table>\n"
      ],
      "text/latex": [
       "\\begin{tabular}{r|lllllllllll}\n",
       " Group & Age & Sex & FD & Weight & BMI & waistIliac & DXA\\_Tissue & DXA\\_Region & VO2LMin & VO2mlkgmin\\\\\n",
       "\\hline\n",
       "\t DIET      & 46        & 1         &  1.757256 &  -9       & -4        & -10       & -0.0774   & -0.0759   &  0.024    &  3.5     \\\\\n",
       "\t MOD-PA    & 52        & 1         & -3.563212 &  -8       & -3        & -12       & -0.0621   & -0.0614   &  0.030    &  3.2     \\\\\n",
       "\t DIET      & 51        & 1         &  0.489796 &  -6       & -2        &  -6       & -0.0265   & -0.0266   &  0.246    &  3.8     \\\\\n",
       "\t HIGH-PA   & 53        & 1         &  1.279023 & -12       & -5        & -14       & -0.0982   & -0.0970   &  0.171    &  7.7     \\\\\n",
       "\t DIET      & 47        & 1         &  0.377673 &   0       &  0        &   1       & -0.0129   & -0.0126   &  0.031    &  0.4     \\\\\n",
       "\t HIGH-PA   & 52        & 1         &  0.063176 &  -8       & -3        & -12       & -0.0422   & -0.0416   & -0.287    & -1.0     \\\\\n",
       "\\end{tabular}\n"
      ],
      "text/markdown": [
       "\n",
       "Group | Age | Sex | FD | Weight | BMI | waistIliac | DXA_Tissue | DXA_Region | VO2LMin | VO2mlkgmin | \n",
       "|---|---|---|---|---|---|\n",
       "| DIET      | 46        | 1         |  1.757256 |  -9       | -4        | -10       | -0.0774   | -0.0759   |  0.024    |  3.5      | \n",
       "| MOD-PA    | 52        | 1         | -3.563212 |  -8       | -3        | -12       | -0.0621   | -0.0614   |  0.030    |  3.2      | \n",
       "| DIET      | 51        | 1         |  0.489796 |  -6       | -2        |  -6       | -0.0265   | -0.0266   |  0.246    |  3.8      | \n",
       "| HIGH-PA   | 53        | 1         |  1.279023 | -12       | -5        | -14       | -0.0982   | -0.0970   |  0.171    |  7.7      | \n",
       "| DIET      | 47        | 1         |  0.377673 |   0       |  0        |   1       | -0.0129   | -0.0126   |  0.031    |  0.4      | \n",
       "| HIGH-PA   | 52        | 1         |  0.063176 |  -8       | -3        | -12       | -0.0422   | -0.0416   | -0.287    | -1.0      | \n",
       "\n",
       "\n"
      ],
      "text/plain": [
       "  Group   Age Sex FD        Weight BMI waistIliac DXA_Tissue DXA_Region VO2LMin\n",
       "1 DIET    46  1    1.757256  -9    -4  -10        -0.0774    -0.0759     0.024 \n",
       "2 MOD-PA  52  1   -3.563212  -8    -3  -12        -0.0621    -0.0614     0.030 \n",
       "3 DIET    51  1    0.489796  -6    -2   -6        -0.0265    -0.0266     0.246 \n",
       "4 HIGH-PA 53  1    1.279023 -12    -5  -14        -0.0982    -0.0970     0.171 \n",
       "5 DIET    47  1    0.377673   0     0    1        -0.0129    -0.0126     0.031 \n",
       "6 HIGH-PA 52  1    0.063176  -8    -3  -12        -0.0422    -0.0416    -0.287 \n",
       "  VO2mlkgmin\n",
       "1  3.5      \n",
       "2  3.2      \n",
       "3  3.8      \n",
       "4  7.7      \n",
       "5  0.4      \n",
       "6 -1.0      "
      ]
     },
     "metadata": {},
     "output_type": "display_data"
    },
    {
     "data": {
      "text/html": [
       "<table>\n",
       "<thead><tr><th></th><th scope=col>Group</th><th scope=col>Age</th><th scope=col>Sex</th><th scope=col>FD</th><th scope=col>Weight</th><th scope=col>BMI</th><th scope=col>waistIliac</th><th scope=col>DXA_Tissue</th><th scope=col>DXA_Region</th><th scope=col>VO2LMin</th><th scope=col>VO2mlkgmin</th></tr></thead>\n",
       "<tbody>\n",
       "\t<tr><th scope=row>1</th><td>DIET     </td><td>46       </td><td>1        </td><td> 1.757256</td><td> -9      </td><td>-4       </td><td>-10      </td><td>-0.0774  </td><td>-0.0759  </td><td> 0.024   </td><td> 3.5     </td></tr>\n",
       "\t<tr><th scope=row>3</th><td>DIET     </td><td>51       </td><td>1        </td><td> 0.489796</td><td> -6      </td><td>-2       </td><td> -6      </td><td>-0.0265  </td><td>-0.0266  </td><td> 0.246   </td><td> 3.8     </td></tr>\n",
       "\t<tr><th scope=row>5</th><td>DIET     </td><td>47       </td><td>1        </td><td> 0.377673</td><td>  0      </td><td> 0       </td><td>  1      </td><td>-0.0129  </td><td>-0.0126  </td><td> 0.031   </td><td> 0.4     </td></tr>\n",
       "\t<tr><th scope=row>8</th><td>DIET     </td><td>49       </td><td>0        </td><td> 1.907260</td><td>-20      </td><td>-6       </td><td>-18      </td><td>-0.0647  </td><td>-0.0648  </td><td>-0.131   </td><td> 4.1     </td></tr>\n",
       "\t<tr><th scope=row>9</th><td>DIET     </td><td>49       </td><td>1        </td><td>-0.307401</td><td>  1      </td><td> 1       </td><td> -1      </td><td>-0.0017  </td><td>-0.0015  </td><td>-0.245   </td><td>-3.3     </td></tr>\n",
       "\t<tr><th scope=row>10</th><td>DIET     </td><td>38       </td><td>1        </td><td> 2.117460</td><td> -7      </td><td>-3       </td><td> -2      </td><td>-0.0503  </td><td>-0.0497  </td><td> 0.199   </td><td> 4.4     </td></tr>\n",
       "</tbody>\n",
       "</table>\n"
      ],
      "text/latex": [
       "\\begin{tabular}{r|lllllllllll}\n",
       "  & Group & Age & Sex & FD & Weight & BMI & waistIliac & DXA\\_Tissue & DXA\\_Region & VO2LMin & VO2mlkgmin\\\\\n",
       "\\hline\n",
       "\t1 & DIET      & 46        & 1         &  1.757256 &  -9       & -4        & -10       & -0.0774   & -0.0759   &  0.024    &  3.5     \\\\\n",
       "\t3 & DIET      & 51        & 1         &  0.489796 &  -6       & -2        &  -6       & -0.0265   & -0.0266   &  0.246    &  3.8     \\\\\n",
       "\t5 & DIET      & 47        & 1         &  0.377673 &   0       &  0        &   1       & -0.0129   & -0.0126   &  0.031    &  0.4     \\\\\n",
       "\t8 & DIET      & 49        & 0         &  1.907260 & -20       & -6        & -18       & -0.0647   & -0.0648   & -0.131    &  4.1     \\\\\n",
       "\t9 & DIET      & 49        & 1         & -0.307401 &   1       &  1        &  -1       & -0.0017   & -0.0015   & -0.245    & -3.3     \\\\\n",
       "\t10 & DIET      & 38        & 1         &  2.117460 &  -7       & -3        &  -2       & -0.0503   & -0.0497   &  0.199    &  4.4     \\\\\n",
       "\\end{tabular}\n"
      ],
      "text/markdown": [
       "\n",
       "| <!--/--> | Group | Age | Sex | FD | Weight | BMI | waistIliac | DXA_Tissue | DXA_Region | VO2LMin | VO2mlkgmin | \n",
       "|---|---|---|---|---|---|\n",
       "| 1 | DIET      | 46        | 1         |  1.757256 |  -9       | -4        | -10       | -0.0774   | -0.0759   |  0.024    |  3.5      | \n",
       "| 3 | DIET      | 51        | 1         |  0.489796 |  -6       | -2        |  -6       | -0.0265   | -0.0266   |  0.246    |  3.8      | \n",
       "| 5 | DIET      | 47        | 1         |  0.377673 |   0       |  0        |   1       | -0.0129   | -0.0126   |  0.031    |  0.4      | \n",
       "| 8 | DIET      | 49        | 0         |  1.907260 | -20       | -6        | -18       | -0.0647   | -0.0648   | -0.131    |  4.1      | \n",
       "| 9 | DIET      | 49        | 1         | -0.307401 |   1       |  1        |  -1       | -0.0017   | -0.0015   | -0.245    | -3.3      | \n",
       "| 10 | DIET      | 38        | 1         |  2.117460 |  -7       | -3        |  -2       | -0.0503   | -0.0497   |  0.199    |  4.4      | \n",
       "\n",
       "\n"
      ],
      "text/plain": [
       "   Group Age Sex FD        Weight BMI waistIliac DXA_Tissue DXA_Region VO2LMin\n",
       "1  DIET  46  1    1.757256  -9    -4  -10        -0.0774    -0.0759     0.024 \n",
       "3  DIET  51  1    0.489796  -6    -2   -6        -0.0265    -0.0266     0.246 \n",
       "5  DIET  47  1    0.377673   0     0    1        -0.0129    -0.0126     0.031 \n",
       "8  DIET  49  0    1.907260 -20    -6  -18        -0.0647    -0.0648    -0.131 \n",
       "9  DIET  49  1   -0.307401   1     1   -1        -0.0017    -0.0015    -0.245 \n",
       "10 DIET  38  1    2.117460  -7    -3   -2        -0.0503    -0.0497     0.199 \n",
       "   VO2mlkgmin\n",
       "1   3.5      \n",
       "3   3.8      \n",
       "5   0.4      \n",
       "8   4.1      \n",
       "9  -3.3      \n",
       "10  4.4      "
      ]
     },
     "metadata": {},
     "output_type": "display_data"
    },
    {
     "data": {
      "text/html": [
       "<table>\n",
       "<thead><tr><th></th><th scope=col>Group</th><th scope=col>Age</th><th scope=col>Sex</th><th scope=col>FD</th><th scope=col>Weight</th><th scope=col>BMI</th><th scope=col>waistIliac</th><th scope=col>DXA_Tissue</th><th scope=col>DXA_Region</th><th scope=col>VO2LMin</th><th scope=col>VO2mlkgmin</th></tr></thead>\n",
       "<tbody>\n",
       "\t<tr><th scope=row>2</th><td>MOD-PA   </td><td>52       </td><td>1        </td><td>-3.563212</td><td> -8      </td><td>-3       </td><td>-12      </td><td>-0.0621  </td><td>-0.0614  </td><td> 0.030   </td><td> 3.2     </td></tr>\n",
       "\t<tr><th scope=row>12</th><td>MOD-PA   </td><td>48       </td><td>1        </td><td>-0.161360</td><td>-10      </td><td>-4       </td><td> -6      </td><td>-0.0680  </td><td>-0.0670  </td><td> 0.055   </td><td> 3.9     </td></tr>\n",
       "\t<tr><th scope=row>13</th><td>MOD-PA   </td><td>47       </td><td>0        </td><td> 0.030009</td><td>-25      </td><td>-9       </td><td>-20      </td><td>-0.0892  </td><td>-0.0888  </td><td>-0.421   </td><td> 2.6     </td></tr>\n",
       "\t<tr><th scope=row>18</th><td>MOD-PA   </td><td>48       </td><td>1        </td><td> 1.622897</td><td> -3      </td><td>-1       </td><td>  6      </td><td>-0.0062  </td><td>-0.0064  </td><td>-0.290   </td><td>-3.5     </td></tr>\n",
       "\t<tr><th scope=row>21</th><td>MOD-PA   </td><td>46       </td><td>1        </td><td>-0.552732</td><td>-12      </td><td>-4       </td><td>-10      </td><td>-0.0873  </td><td>-0.0867  </td><td> 0.015   </td><td> 4.7     </td></tr>\n",
       "\t<tr><th scope=row>30</th><td>MOD-PA   </td><td>53       </td><td>0        </td><td>-1.895600</td><td>-11      </td><td>-4       </td><td> -9      </td><td>-0.0394  </td><td>-0.0390  </td><td> 0.252   </td><td> 4.3     </td></tr>\n",
       "</tbody>\n",
       "</table>\n"
      ],
      "text/latex": [
       "\\begin{tabular}{r|lllllllllll}\n",
       "  & Group & Age & Sex & FD & Weight & BMI & waistIliac & DXA\\_Tissue & DXA\\_Region & VO2LMin & VO2mlkgmin\\\\\n",
       "\\hline\n",
       "\t2 & MOD-PA    & 52        & 1         & -3.563212 &  -8       & -3        & -12       & -0.0621   & -0.0614   &  0.030    &  3.2     \\\\\n",
       "\t12 & MOD-PA    & 48        & 1         & -0.161360 & -10       & -4        &  -6       & -0.0680   & -0.0670   &  0.055    &  3.9     \\\\\n",
       "\t13 & MOD-PA    & 47        & 0         &  0.030009 & -25       & -9        & -20       & -0.0892   & -0.0888   & -0.421    &  2.6     \\\\\n",
       "\t18 & MOD-PA    & 48        & 1         &  1.622897 &  -3       & -1        &   6       & -0.0062   & -0.0064   & -0.290    & -3.5     \\\\\n",
       "\t21 & MOD-PA    & 46        & 1         & -0.552732 & -12       & -4        & -10       & -0.0873   & -0.0867   &  0.015    &  4.7     \\\\\n",
       "\t30 & MOD-PA    & 53        & 0         & -1.895600 & -11       & -4        &  -9       & -0.0394   & -0.0390   &  0.252    &  4.3     \\\\\n",
       "\\end{tabular}\n"
      ],
      "text/markdown": [
       "\n",
       "| <!--/--> | Group | Age | Sex | FD | Weight | BMI | waistIliac | DXA_Tissue | DXA_Region | VO2LMin | VO2mlkgmin | \n",
       "|---|---|---|---|---|---|\n",
       "| 2 | MOD-PA    | 52        | 1         | -3.563212 |  -8       | -3        | -12       | -0.0621   | -0.0614   |  0.030    |  3.2      | \n",
       "| 12 | MOD-PA    | 48        | 1         | -0.161360 | -10       | -4        |  -6       | -0.0680   | -0.0670   |  0.055    |  3.9      | \n",
       "| 13 | MOD-PA    | 47        | 0         |  0.030009 | -25       | -9        | -20       | -0.0892   | -0.0888   | -0.421    |  2.6      | \n",
       "| 18 | MOD-PA    | 48        | 1         |  1.622897 |  -3       | -1        |   6       | -0.0062   | -0.0064   | -0.290    | -3.5      | \n",
       "| 21 | MOD-PA    | 46        | 1         | -0.552732 | -12       | -4        | -10       | -0.0873   | -0.0867   |  0.015    |  4.7      | \n",
       "| 30 | MOD-PA    | 53        | 0         | -1.895600 | -11       | -4        |  -9       | -0.0394   | -0.0390   |  0.252    |  4.3      | \n",
       "\n",
       "\n"
      ],
      "text/plain": [
       "   Group  Age Sex FD        Weight BMI waistIliac DXA_Tissue DXA_Region VO2LMin\n",
       "2  MOD-PA 52  1   -3.563212  -8    -3  -12        -0.0621    -0.0614     0.030 \n",
       "12 MOD-PA 48  1   -0.161360 -10    -4   -6        -0.0680    -0.0670     0.055 \n",
       "13 MOD-PA 47  0    0.030009 -25    -9  -20        -0.0892    -0.0888    -0.421 \n",
       "18 MOD-PA 48  1    1.622897  -3    -1    6        -0.0062    -0.0064    -0.290 \n",
       "21 MOD-PA 46  1   -0.552732 -12    -4  -10        -0.0873    -0.0867     0.015 \n",
       "30 MOD-PA 53  0   -1.895600 -11    -4   -9        -0.0394    -0.0390     0.252 \n",
       "   VO2mlkgmin\n",
       "2   3.2      \n",
       "12  3.9      \n",
       "13  2.6      \n",
       "18 -3.5      \n",
       "21  4.7      \n",
       "30  4.3      "
      ]
     },
     "metadata": {},
     "output_type": "display_data"
    },
    {
     "data": {
      "text/html": [
       "<table>\n",
       "<thead><tr><th></th><th scope=col>Group</th><th scope=col>Age</th><th scope=col>Sex</th><th scope=col>FD</th><th scope=col>Weight</th><th scope=col>BMI</th><th scope=col>waistIliac</th><th scope=col>DXA_Tissue</th><th scope=col>DXA_Region</th><th scope=col>VO2LMin</th><th scope=col>VO2mlkgmin</th></tr></thead>\n",
       "<tbody>\n",
       "\t<tr><th scope=row>4</th><td>HIGH-PA  </td><td>53       </td><td>1        </td><td> 1.279023</td><td>-12      </td><td>-5       </td><td>-14      </td><td>-0.0982  </td><td>-0.0970  </td><td> 0.171   </td><td> 7.7     </td></tr>\n",
       "\t<tr><th scope=row>6</th><td>HIGH-PA  </td><td>52       </td><td>1        </td><td> 0.063176</td><td> -8      </td><td>-3       </td><td>-12      </td><td>-0.0422  </td><td>-0.0416  </td><td>-0.287   </td><td>-1.0     </td></tr>\n",
       "\t<tr><th scope=row>7</th><td>HIGH-PA  </td><td>48       </td><td>0        </td><td> 1.023296</td><td>  1      </td><td> 0       </td><td> -2      </td><td>-0.0012  </td><td>-0.0012  </td><td> 0.082   </td><td> 0.5     </td></tr>\n",
       "\t<tr><th scope=row>11</th><td>HIGH-PA  </td><td>51       </td><td>0        </td><td> 0.872190</td><td>-13      </td><td>-5       </td><td>-17      </td><td>-0.1175  </td><td>-0.1150  </td><td>-0.160   </td><td> 3.3     </td></tr>\n",
       "\t<tr><th scope=row>15</th><td>HIGH-PA  </td><td>31       </td><td>1        </td><td> 0.303058</td><td> -5      </td><td>-2       </td><td>  4      </td><td>-0.0814  </td><td>-0.0800  </td><td> 0.363   </td><td> 7.2     </td></tr>\n",
       "\t<tr><th scope=row>16</th><td>HIGH-PA  </td><td>47       </td><td>0        </td><td>-0.226203</td><td> -5      </td><td>-2       </td><td> -3      </td><td>-0.0331  </td><td>-0.0327  </td><td>-0.144   </td><td>-0.3     </td></tr>\n",
       "</tbody>\n",
       "</table>\n"
      ],
      "text/latex": [
       "\\begin{tabular}{r|lllllllllll}\n",
       "  & Group & Age & Sex & FD & Weight & BMI & waistIliac & DXA\\_Tissue & DXA\\_Region & VO2LMin & VO2mlkgmin\\\\\n",
       "\\hline\n",
       "\t4 & HIGH-PA   & 53        & 1         &  1.279023 & -12       & -5        & -14       & -0.0982   & -0.0970   &  0.171    &  7.7     \\\\\n",
       "\t6 & HIGH-PA   & 52        & 1         &  0.063176 &  -8       & -3        & -12       & -0.0422   & -0.0416   & -0.287    & -1.0     \\\\\n",
       "\t7 & HIGH-PA   & 48        & 0         &  1.023296 &   1       &  0        &  -2       & -0.0012   & -0.0012   &  0.082    &  0.5     \\\\\n",
       "\t11 & HIGH-PA   & 51        & 0         &  0.872190 & -13       & -5        & -17       & -0.1175   & -0.1150   & -0.160    &  3.3     \\\\\n",
       "\t15 & HIGH-PA   & 31        & 1         &  0.303058 &  -5       & -2        &   4       & -0.0814   & -0.0800   &  0.363    &  7.2     \\\\\n",
       "\t16 & HIGH-PA   & 47        & 0         & -0.226203 &  -5       & -2        &  -3       & -0.0331   & -0.0327   & -0.144    & -0.3     \\\\\n",
       "\\end{tabular}\n"
      ],
      "text/markdown": [
       "\n",
       "| <!--/--> | Group | Age | Sex | FD | Weight | BMI | waistIliac | DXA_Tissue | DXA_Region | VO2LMin | VO2mlkgmin | \n",
       "|---|---|---|---|---|---|\n",
       "| 4 | HIGH-PA   | 53        | 1         |  1.279023 | -12       | -5        | -14       | -0.0982   | -0.0970   |  0.171    |  7.7      | \n",
       "| 6 | HIGH-PA   | 52        | 1         |  0.063176 |  -8       | -3        | -12       | -0.0422   | -0.0416   | -0.287    | -1.0      | \n",
       "| 7 | HIGH-PA   | 48        | 0         |  1.023296 |   1       |  0        |  -2       | -0.0012   | -0.0012   |  0.082    |  0.5      | \n",
       "| 11 | HIGH-PA   | 51        | 0         |  0.872190 | -13       | -5        | -17       | -0.1175   | -0.1150   | -0.160    |  3.3      | \n",
       "| 15 | HIGH-PA   | 31        | 1         |  0.303058 |  -5       | -2        |   4       | -0.0814   | -0.0800   |  0.363    |  7.2      | \n",
       "| 16 | HIGH-PA   | 47        | 0         | -0.226203 |  -5       | -2        |  -3       | -0.0331   | -0.0327   | -0.144    | -0.3      | \n",
       "\n",
       "\n"
      ],
      "text/plain": [
       "   Group   Age Sex FD        Weight BMI waistIliac DXA_Tissue DXA_Region\n",
       "4  HIGH-PA 53  1    1.279023 -12    -5  -14        -0.0982    -0.0970   \n",
       "6  HIGH-PA 52  1    0.063176  -8    -3  -12        -0.0422    -0.0416   \n",
       "7  HIGH-PA 48  0    1.023296   1     0   -2        -0.0012    -0.0012   \n",
       "11 HIGH-PA 51  0    0.872190 -13    -5  -17        -0.1175    -0.1150   \n",
       "15 HIGH-PA 31  1    0.303058  -5    -2    4        -0.0814    -0.0800   \n",
       "16 HIGH-PA 47  0   -0.226203  -5    -2   -3        -0.0331    -0.0327   \n",
       "   VO2LMin VO2mlkgmin\n",
       "4   0.171   7.7      \n",
       "6  -0.287  -1.0      \n",
       "7   0.082   0.5      \n",
       "11 -0.160   3.3      \n",
       "15  0.363   7.2      \n",
       "16 -0.144  -0.3      "
      ]
     },
     "metadata": {},
     "output_type": "display_data"
    }
   ],
   "source": [
    "head(final_df)\n",
    "head(diet_df)\n",
    "head(mod_pa_df)\n",
    "head(high_pa_df)"
   ]
  },
  {
   "cell_type": "code",
   "execution_count": 26,
   "metadata": {},
   "outputs": [
    {
     "data": {
      "text/plain": [
       "\n",
       "\tOne Sample t-test\n",
       "\n",
       "data:  final_df$VO2LMin\n",
       "t = -3.2025, df = 90, p-value = 0.001884\n",
       "alternative hypothesis: true mean is not equal to 0\n",
       "95 percent confidence interval:\n",
       " -0.12129555 -0.02841874\n",
       "sample estimates:\n",
       "  mean of x \n",
       "-0.07485714 \n"
      ]
     },
     "metadata": {},
     "output_type": "display_data"
    },
    {
     "data": {
      "text/plain": [
       "\n",
       "\tOne Sample t-test\n",
       "\n",
       "data:  diet_df$VO2LMin\n",
       "t = -3.2294, df = 37, p-value = 0.002603\n",
       "alternative hypothesis: true mean is not equal to 0\n",
       "95 percent confidence interval:\n",
       " -0.18651077 -0.04269976\n",
       "sample estimates:\n",
       " mean of x \n",
       "-0.1146053 \n"
      ]
     },
     "metadata": {},
     "output_type": "display_data"
    },
    {
     "data": {
      "text/plain": [
       "\n",
       "\tOne Sample t-test\n",
       "\n",
       "data:  mod_pa_df$VO2LMin\n",
       "t = -2.229, df = 19, p-value = 0.03808\n",
       "alternative hypothesis: true mean is not equal to 0\n",
       "95 percent confidence interval:\n",
       " -0.206891921 -0.006508079\n",
       "sample estimates:\n",
       "mean of x \n",
       "  -0.1067 \n"
      ]
     },
     "metadata": {},
     "output_type": "display_data"
    },
    {
     "data": {
      "text/plain": [
       "\n",
       "\tOne Sample t-test\n",
       "\n",
       "data:  high_pa_df$VO2LMin\n",
       "t = -0.25041, df = 32, p-value = 0.8039\n",
       "alternative hypothesis: true mean is not equal to 0\n",
       "95 percent confidence interval:\n",
       " -0.08940676  0.06983101\n",
       "sample estimates:\n",
       "   mean of x \n",
       "-0.009787879 \n"
      ]
     },
     "metadata": {},
     "output_type": "display_data"
    }
   ],
   "source": [
    "t.test(final_df$VO2LMin)\n",
    "t.test(diet_df$VO2LMin)\n",
    "t.test(mod_pa_df$VO2LMin)\n",
    "t.test(high_pa_df$VO2LMin)"
   ]
  },
  {
   "cell_type": "code",
   "execution_count": 5,
   "metadata": {},
   "outputs": [
    {
     "data": {
      "text/plain": [
       "\n",
       "\n",
       "|Group   |    Min|       Q1|  Median|       Mean|      Q3|   Max|        SD|  N|\n",
       "|:-------|------:|--------:|-------:|----------:|-------:|-----:|---------:|--:|\n",
       "|DIET    | -0.904| -0.19350| -0.1045| -0.1146053| 0.02400| 0.288| 0.2187627| 38|\n",
       "|HIGH-PA | -0.494| -0.16000| -0.0190| -0.0097879| 0.13600| 0.452| 0.2245413| 33|\n",
       "|MOD-PA  | -0.544| -0.26525| -0.0320| -0.1067000| 0.01875| 0.252| 0.2140787| 20|"
      ]
     },
     "metadata": {},
     "output_type": "display_data"
    }
   ],
   "source": [
    "summary_vo2Lmin <- final_df %>%\n",
    "                                    group_by(Group) %>%\n",
    "                                    dplyr::summarize(Min  = min(VO2LMin, na.rm = TRUE),\n",
    "                                                     Q1 = quantile(VO2LMin, na.rm=TRUE)[2],\n",
    "                                                     Median = quantile(VO2LMin, na.rm=TRUE)[3],\n",
    "                                                     Mean = mean(VO2LMin, na.rm = TRUE),\n",
    "                                                     Q3 = quantile(VO2LMin, na.rm=TRUE)[4],\n",
    "                                                     Max = max(VO2LMin, na.rm = TRUE),\n",
    "                                                     SD = sd(VO2LMin, na.rm = TRUE),\n",
    "                                                     N = n()\n",
    "                                                     )\n",
    "\n",
    "kable(summary_vo2Lmin)\n"
   ]
  },
  {
   "cell_type": "code",
   "execution_count": 27,
   "metadata": {},
   "outputs": [
    {
     "data": {
      "text/plain": [
       "\n",
       "\tOne Sample t-test\n",
       "\n",
       "data:  final_df$VO2mlkgmin\n",
       "t = 7.0572, df = 90, p-value = 3.404e-10\n",
       "alternative hypothesis: true mean is not equal to 0\n",
       "95 percent confidence interval:\n",
       " 1.573575 2.806645\n",
       "sample estimates:\n",
       "mean of x \n",
       "  2.19011 \n"
      ]
     },
     "metadata": {},
     "output_type": "display_data"
    },
    {
     "data": {
      "text/plain": [
       "\n",
       "\tOne Sample t-test\n",
       "\n",
       "data:  diet_df$VO2mlkgmin\n",
       "t = 3.5291, df = 37, p-value = 0.001134\n",
       "alternative hypothesis: true mean is not equal to 0\n",
       "95 percent confidence interval:\n",
       " 0.6936954 2.5641993\n",
       "sample estimates:\n",
       "mean of x \n",
       " 1.628947 \n"
      ]
     },
     "metadata": {},
     "output_type": "display_data"
    },
    {
     "data": {
      "text/plain": [
       "\n",
       "\tOne Sample t-test\n",
       "\n",
       "data:  mod_pa_df$VO2mlkgmin\n",
       "t = 3.0971, df = 19, p-value = 0.005934\n",
       "alternative hypothesis: true mean is not equal to 0\n",
       "95 percent confidence interval:\n",
       " 0.6937793 3.5862207\n",
       "sample estimates:\n",
       "mean of x \n",
       "     2.14 \n"
      ]
     },
     "metadata": {},
     "output_type": "display_data"
    },
    {
     "data": {
      "text/plain": [
       "\n",
       "\tOne Sample t-test\n",
       "\n",
       "data:  high_pa_df$VO2mlkgmin\n",
       "t = 5.5606, df = 32, p-value = 3.887e-06\n",
       "alternative hypothesis: true mean is not equal to 0\n",
       "95 percent confidence interval:\n",
       " 1.816568 3.916765\n",
       "sample estimates:\n",
       "mean of x \n",
       " 2.866667 \n"
      ]
     },
     "metadata": {},
     "output_type": "display_data"
    }
   ],
   "source": [
    "t.test(final_df$VO2mlkgmin)\n",
    "t.test(diet_df$VO2mlkgmin)\n",
    "t.test(mod_pa_df$VO2mlkgmin)\n",
    "t.test(high_pa_df$VO2mlkgmin)"
   ]
  },
  {
   "cell_type": "code",
   "execution_count": 43,
   "metadata": {
    "scrolled": true
   },
   "outputs": [
    {
     "data": {
      "text/plain": [
       "\n",
       "\n",
       "|Group   |  Min|    Q1| Median|     Mean|   Q3| Max|       SD|  N|\n",
       "|:-------|----:|-----:|------:|--------:|----:|---:|--------:|--:|\n",
       "|DIET    | -5.3| 0.325|   2.35| 1.628947| 3.75| 6.6| 2.845376| 38|\n",
       "|HIGH-PA | -2.2| 0.300|   3.20| 2.866667| 5.30| 9.0| 2.961489| 33|\n",
       "|MOD-PA  | -6.1| 1.950|   2.95| 2.140000| 4.15| 5.2| 3.090120| 20|"
      ]
     },
     "metadata": {},
     "output_type": "display_data"
    }
   ],
   "source": [
    "summary_vo2mlkgmin <- final_df %>%\n",
    "                                    group_by(Group) %>%\n",
    "                                    dplyr::summarize(Min  = min(VO2mlkgmin, na.rm = TRUE),\n",
    "                                                     Q1 = quantile(VO2mlkgmin, na.rm=TRUE)[2],\n",
    "                                                     Median = quantile(VO2mlkgmin, na.rm=TRUE)[3],\n",
    "                                                     Mean = mean(VO2mlkgmin, na.rm = TRUE),\n",
    "                                                     Q3 = quantile(VO2mlkgmin, na.rm=TRUE)[4],\n",
    "                                                     Max = max(VO2mlkgmin, na.rm = TRUE),\n",
    "                                                     SD = sd(VO2mlkgmin, na.rm = TRUE),\n",
    "                                                     N = n()\n",
    "                                                     )\n",
    "\n",
    "kable(summary_vo2mlkgmin)\n"
   ]
  },
  {
   "cell_type": "code",
   "execution_count": 28,
   "metadata": {},
   "outputs": [
    {
     "data": {
      "text/plain": [
       "\n",
       "\tOne Sample t-test\n",
       "\n",
       "data:  final_df$Weight\n",
       "t = -12.511, df = 90, p-value < 2.2e-16\n",
       "alternative hypothesis: true mean is not equal to 0\n",
       "95 percent confidence interval:\n",
       " -11.86813  -8.61539\n",
       "sample estimates:\n",
       "mean of x \n",
       "-10.24176 \n"
      ]
     },
     "metadata": {},
     "output_type": "display_data"
    },
    {
     "data": {
      "text/plain": [
       "\n",
       "\tOne Sample t-test\n",
       "\n",
       "data:  diet_df$Weight\n",
       "t = -6.9674, df = 37, p-value = 3.133e-08\n",
       "alternative hypothesis: true mean is not equal to 0\n",
       "95 percent confidence interval:\n",
       " -12.84017  -7.05457\n",
       "sample estimates:\n",
       "mean of x \n",
       "-9.947368 \n"
      ]
     },
     "metadata": {},
     "output_type": "display_data"
    },
    {
     "data": {
      "text/plain": [
       "\n",
       "\tOne Sample t-test\n",
       "\n",
       "data:  mod_pa_df$Weight\n",
       "t = -7.4167, df = 19, p-value = 5.063e-07\n",
       "alternative hypothesis: true mean is not equal to 0\n",
       "95 percent confidence interval:\n",
       " -15.065887  -8.434113\n",
       "sample estimates:\n",
       "mean of x \n",
       "   -11.75 \n"
      ]
     },
     "metadata": {},
     "output_type": "display_data"
    },
    {
     "data": {
      "text/plain": [
       "\n",
       "\tOne Sample t-test\n",
       "\n",
       "data:  high_pa_df$Weight\n",
       "t = -7.8304, df = 32, p-value = 6.221e-09\n",
       "alternative hypothesis: true mean is not equal to 0\n",
       "95 percent confidence interval:\n",
       " -12.181261  -7.152073\n",
       "sample estimates:\n",
       "mean of x \n",
       "-9.666667 \n"
      ]
     },
     "metadata": {},
     "output_type": "display_data"
    }
   ],
   "source": [
    "t.test(final_df$Weight)\n",
    "t.test(diet_df$Weight)\n",
    "t.test(mod_pa_df$Weight)\n",
    "t.test(high_pa_df$Weight)"
   ]
  },
  {
   "cell_type": "code",
   "execution_count": 29,
   "metadata": {},
   "outputs": [
    {
     "data": {
      "text/plain": [
       "\n",
       "\tOne Sample t-test\n",
       "\n",
       "data:  final_df$FD\n",
       "t = -0.5949, df = 90, p-value = 0.5534\n",
       "alternative hypothesis: true mean is not equal to 0\n",
       "95 percent confidence interval:\n",
       " -0.5272154  0.2842313\n",
       "sample estimates:\n",
       " mean of x \n",
       "-0.1214921 \n"
      ]
     },
     "metadata": {},
     "output_type": "display_data"
    },
    {
     "data": {
      "text/plain": [
       "\n",
       "\tOne Sample t-test\n",
       "\n",
       "data:  diet_df$FD\n",
       "t = 0.48177, df = 37, p-value = 0.6328\n",
       "alternative hypothesis: true mean is not equal to 0\n",
       "95 percent confidence interval:\n",
       " -0.5388259  0.8749890\n",
       "sample estimates:\n",
       "mean of x \n",
       "0.1680816 \n"
      ]
     },
     "metadata": {},
     "output_type": "display_data"
    },
    {
     "data": {
      "text/plain": [
       "\n",
       "\tOne Sample t-test\n",
       "\n",
       "data:  mod_pa_df$FD\n",
       "t = -2.2006, df = 19, p-value = 0.04033\n",
       "alternative hypothesis: true mean is not equal to 0\n",
       "95 percent confidence interval:\n",
       " -1.5826059 -0.0396562\n",
       "sample estimates:\n",
       "mean of x \n",
       "-0.811131 \n"
      ]
     },
     "metadata": {},
     "output_type": "display_data"
    },
    {
     "data": {
      "text/plain": [
       "\n",
       "\tOne Sample t-test\n",
       "\n",
       "data:  high_pa_df$FD\n",
       "t = -0.11678, df = 32, p-value = 0.9078\n",
       "alternative hypothesis: true mean is not equal to 0\n",
       "95 percent confidence interval:\n",
       " -0.6819600  0.6080052\n",
       "sample estimates:\n",
       "  mean of x \n",
       "-0.03697742 \n"
      ]
     },
     "metadata": {},
     "output_type": "display_data"
    }
   ],
   "source": [
    "t.test(final_df$FD)\n",
    "t.test(diet_df$FD)\n",
    "t.test(mod_pa_df$FD)\n",
    "t.test(high_pa_df$FD)"
   ]
  },
  {
   "cell_type": "code",
   "execution_count": 30,
   "metadata": {},
   "outputs": [
    {
     "data": {
      "text/plain": [
       "\n",
       "\tOne Sample t-test\n",
       "\n",
       "data:  final_df$BMI\n",
       "t = -13.166, df = 90, p-value < 2.2e-16\n",
       "alternative hypothesis: true mean is not equal to 0\n",
       "95 percent confidence interval:\n",
       " -4.173559 -3.079188\n",
       "sample estimates:\n",
       "mean of x \n",
       "-3.626374 \n"
      ]
     },
     "metadata": {},
     "output_type": "display_data"
    },
    {
     "data": {
      "text/plain": [
       "\n",
       "\tOne Sample t-test\n",
       "\n",
       "data:  diet_df$BMI\n",
       "t = -7.6605, df = 37, p-value = 3.807e-09\n",
       "alternative hypothesis: true mean is not equal to 0\n",
       "95 percent confidence interval:\n",
       " -4.425747 -2.574253\n",
       "sample estimates:\n",
       "mean of x \n",
       "     -3.5 \n"
      ]
     },
     "metadata": {},
     "output_type": "display_data"
    },
    {
     "data": {
      "text/plain": [
       "\n",
       "\tOne Sample t-test\n",
       "\n",
       "data:  mod_pa_df$BMI\n",
       "t = -7.5084, df = 19, p-value = 4.243e-07\n",
       "alternative hypothesis: true mean is not equal to 0\n",
       "95 percent confidence interval:\n",
       " -5.434723 -3.065277\n",
       "sample estimates:\n",
       "mean of x \n",
       "    -4.25 \n"
      ]
     },
     "metadata": {},
     "output_type": "display_data"
    },
    {
     "data": {
      "text/plain": [
       "\n",
       "\tOne Sample t-test\n",
       "\n",
       "data:  high_pa_df$BMI\n",
       "t = -7.8803, df = 32, p-value = 5.431e-09\n",
       "alternative hypothesis: true mean is not equal to 0\n",
       "95 percent confidence interval:\n",
       " -4.271220 -2.516659\n",
       "sample estimates:\n",
       "mean of x \n",
       "-3.393939 \n"
      ]
     },
     "metadata": {},
     "output_type": "display_data"
    }
   ],
   "source": [
    "t.test(final_df$BMI)\n",
    "t.test(diet_df$BMI)\n",
    "t.test(mod_pa_df$BMI)\n",
    "t.test(high_pa_df$BMI)"
   ]
  },
  {
   "cell_type": "code",
   "execution_count": 31,
   "metadata": {},
   "outputs": [
    {
     "data": {
      "text/plain": [
       "\n",
       "\tOne Sample t-test\n",
       "\n",
       "data:  final_df$waistIliac\n",
       "t = -10.839, df = 90, p-value < 2.2e-16\n",
       "alternative hypothesis: true mean is not equal to 0\n",
       "95 percent confidence interval:\n",
       " -10.87071  -7.50292\n",
       "sample estimates:\n",
       "mean of x \n",
       "-9.186813 \n"
      ]
     },
     "metadata": {},
     "output_type": "display_data"
    },
    {
     "data": {
      "text/plain": [
       "\n",
       "\tOne Sample t-test\n",
       "\n",
       "data:  diet_df$waistIliac\n",
       "t = -5.7605, df = 37, p-value = 1.325e-06\n",
       "alternative hypothesis: true mean is not equal to 0\n",
       "95 percent confidence interval:\n",
       " -11.098486  -5.322567\n",
       "sample estimates:\n",
       "mean of x \n",
       "-8.210526 \n"
      ]
     },
     "metadata": {},
     "output_type": "display_data"
    },
    {
     "data": {
      "text/plain": [
       "\n",
       "\tOne Sample t-test\n",
       "\n",
       "data:  mod_pa_df$waistIliac\n",
       "t = -5.6298, df = 19, p-value = 1.987e-05\n",
       "alternative hypothesis: true mean is not equal to 0\n",
       "95 percent confidence interval:\n",
       " -13.374826  -6.125174\n",
       "sample estimates:\n",
       "mean of x \n",
       "    -9.75 \n"
      ]
     },
     "metadata": {},
     "output_type": "display_data"
    },
    {
     "data": {
      "text/plain": [
       "\n",
       "\tOne Sample t-test\n",
       "\n",
       "data:  high_pa_df$waistIliac\n",
       "t = -7.5838, df = 32, p-value = 1.223e-08\n",
       "alternative hypothesis: true mean is not equal to 0\n",
       "95 percent confidence interval:\n",
       " -12.647463  -7.291931\n",
       "sample estimates:\n",
       "mean of x \n",
       "-9.969697 \n"
      ]
     },
     "metadata": {},
     "output_type": "display_data"
    }
   ],
   "source": [
    "t.test(final_df$waistIliac)\n",
    "t.test(diet_df$waistIliac)\n",
    "t.test(mod_pa_df$waistIliac)\n",
    "t.test(high_pa_df$waistIliac)"
   ]
  },
  {
   "cell_type": "code",
   "execution_count": 32,
   "metadata": {},
   "outputs": [
    {
     "data": {
      "text/plain": [
       "\n",
       "\tOne Sample t-test\n",
       "\n",
       "data:  final_df$DXA_Tissue\n",
       "t = -11.938, df = 90, p-value < 2.2e-16\n",
       "alternative hypothesis: true mean is not equal to 0\n",
       "95 percent confidence interval:\n",
       " -0.06448342 -0.04608361\n",
       "sample estimates:\n",
       "  mean of x \n",
       "-0.05528352 \n"
      ]
     },
     "metadata": {},
     "output_type": "display_data"
    },
    {
     "data": {
      "text/plain": [
       "\n",
       "\tOne Sample t-test\n",
       "\n",
       "data:  diet_df$DXA_Tissue\n",
       "t = -6.9953, df = 37, p-value = 2.876e-08\n",
       "alternative hypothesis: true mean is not equal to 0\n",
       "95 percent confidence interval:\n",
       " -0.06687849 -0.03683730\n",
       "sample estimates:\n",
       "  mean of x \n",
       "-0.05185789 \n"
      ]
     },
     "metadata": {},
     "output_type": "display_data"
    },
    {
     "data": {
      "text/plain": [
       "\n",
       "\tOne Sample t-test\n",
       "\n",
       "data:  mod_pa_df$DXA_Tissue\n",
       "t = -6.6648, df = 19, p-value = 2.253e-06\n",
       "alternative hypothesis: true mean is not equal to 0\n",
       "95 percent confidence interval:\n",
       " -0.07978862 -0.04165138\n",
       "sample estimates:\n",
       "mean of x \n",
       " -0.06072 \n"
      ]
     },
     "metadata": {},
     "output_type": "display_data"
    },
    {
     "data": {
      "text/plain": [
       "\n",
       "\tOne Sample t-test\n",
       "\n",
       "data:  high_pa_df$DXA_Tissue\n",
       "t = -7.0874, df = 32, p-value = 4.864e-08\n",
       "alternative hypothesis: true mean is not equal to 0\n",
       "95 percent confidence interval:\n",
       " -0.07200861 -0.03985806\n",
       "sample estimates:\n",
       "  mean of x \n",
       "-0.05593333 \n"
      ]
     },
     "metadata": {},
     "output_type": "display_data"
    }
   ],
   "source": [
    "t.test(final_df$DXA_Tissue)\n",
    "t.test(diet_df$DXA_Tissue)\n",
    "t.test(mod_pa_df$DXA_Tissue)\n",
    "t.test(high_pa_df$DXA_Tissue)"
   ]
  },
  {
   "cell_type": "code",
   "execution_count": 33,
   "metadata": {},
   "outputs": [
    {
     "data": {
      "text/plain": [
       "\n",
       "\tOne Sample t-test\n",
       "\n",
       "data:  final_df$DXA_Region\n",
       "t = -12.027, df = 90, p-value < 2.2e-16\n",
       "alternative hypothesis: true mean is not equal to 0\n",
       "95 percent confidence interval:\n",
       " -0.06385594 -0.04575065\n",
       "sample estimates:\n",
       " mean of x \n",
       "-0.0548033 \n"
      ]
     },
     "metadata": {},
     "output_type": "display_data"
    },
    {
     "data": {
      "text/plain": [
       "\n",
       "\tOne Sample t-test\n",
       "\n",
       "data:  diet_df$DXA_Region\n",
       "t = -7.0346, df = 37, p-value = 2.549e-08\n",
       "alternative hypothesis: true mean is not equal to 0\n",
       "95 percent confidence interval:\n",
       " -0.06621844 -0.03660261\n",
       "sample estimates:\n",
       "  mean of x \n",
       "-0.05141053 \n"
      ]
     },
     "metadata": {},
     "output_type": "display_data"
    },
    {
     "data": {
      "text/plain": [
       "\n",
       "\tOne Sample t-test\n",
       "\n",
       "data:  mod_pa_df$DXA_Region\n",
       "t = -6.7441, df = 19, p-value = 1.918e-06\n",
       "alternative hypothesis: true mean is not equal to 0\n",
       "95 percent confidence interval:\n",
       " -0.07894203 -0.04154797\n",
       "sample estimates:\n",
       "mean of x \n",
       "-0.060245 \n"
      ]
     },
     "metadata": {},
     "output_type": "display_data"
    },
    {
     "data": {
      "text/plain": [
       "\n",
       "\tOne Sample t-test\n",
       "\n",
       "data:  high_pa_df$DXA_Region\n",
       "t = -7.1407, df = 32, p-value = 4.189e-08\n",
       "alternative hypothesis: true mean is not equal to 0\n",
       "95 percent confidence interval:\n",
       " -0.07121891 -0.03960534\n",
       "sample estimates:\n",
       "  mean of x \n",
       "-0.05541212 \n"
      ]
     },
     "metadata": {},
     "output_type": "display_data"
    }
   ],
   "source": [
    "t.test(final_df$DXA_Region)\n",
    "t.test(diet_df$DXA_Region)\n",
    "t.test(mod_pa_df$DXA_Region)\n",
    "t.test(high_pa_df$DXA_Region)"
   ]
  },
  {
   "cell_type": "code",
   "execution_count": 54,
   "metadata": {},
   "outputs": [],
   "source": [
    "write.csv(final_df, file='~/Google\\ Drive/WIN_Matter/analysis/data/health_demographics_diffscores.csv')"
   ]
  },
  {
   "cell_type": "code",
   "execution_count": 18,
   "metadata": {},
   "outputs": [],
   "source": [
    "?subset\n"
   ]
  },
  {
   "cell_type": "code",
   "execution_count": null,
   "metadata": {},
   "outputs": [],
   "source": []
  }
 ],
 "metadata": {
  "kernelspec": {
   "display_name": "R",
   "language": "R",
   "name": "ir"
  },
  "language_info": {
   "codemirror_mode": "r",
   "file_extension": ".r",
   "mimetype": "text/x-r-source",
   "name": "R",
   "pygments_lexer": "r",
   "version": "3.4.4"
  }
 },
 "nbformat": 4,
 "nbformat_minor": 2
}
